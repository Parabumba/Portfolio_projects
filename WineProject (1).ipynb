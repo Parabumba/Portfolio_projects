{
 "cells": [
  {
   "cell_type": "markdown",
   "id": "5efbaf3f-10be-46f3-9cfb-35dbb06af0d4",
   "metadata": {},
   "source": [
    "# Анализ винного рынка "
   ]
  },
  {
   "cell_type": "code",
   "execution_count": 16,
   "id": "1dc09f11-9314-453a-af56-2cc73a94a2a9",
   "metadata": {},
   "outputs": [],
   "source": [
    "import pandas as pd\n",
    "import seaborn as sns\n",
    "import matplotlib.pyplot as plt"
   ]
  },
  {
   "cell_type": "code",
   "execution_count": 18,
   "id": "ea363464-3db3-4851-8d95-ffefa6d19160",
   "metadata": {},
   "outputs": [],
   "source": [
    "df = pd.read_csv('winemag-data_first150k.csv')"
   ]
  },
  {
   "cell_type": "markdown",
   "id": "7969c0db-4b89-42f2-8e72-b93803395f80",
   "metadata": {},
   "source": [
    "### Отбросим ненужные столбцы"
   ]
  },
  {
   "cell_type": "code",
   "execution_count": 21,
   "id": "8244b535-7b40-4b36-9782-cbbbddce4142",
   "metadata": {},
   "outputs": [],
   "source": [
    "df2 = df.drop(['Unnamed: 0', 'description', 'region_1', 'region_2'], axis = 1)"
   ]
  },
  {
   "cell_type": "code",
   "execution_count": 23,
   "id": "2efda7a2-03f1-4e5d-898b-ce7284d1f185",
   "metadata": {},
   "outputs": [
    {
     "data": {
      "text/html": [
       "<div>\n",
       "<style scoped>\n",
       "    .dataframe tbody tr th:only-of-type {\n",
       "        vertical-align: middle;\n",
       "    }\n",
       "\n",
       "    .dataframe tbody tr th {\n",
       "        vertical-align: top;\n",
       "    }\n",
       "\n",
       "    .dataframe thead th {\n",
       "        text-align: right;\n",
       "    }\n",
       "</style>\n",
       "<table border=\"1\" class=\"dataframe\">\n",
       "  <thead>\n",
       "    <tr style=\"text-align: right;\">\n",
       "      <th></th>\n",
       "      <th>country</th>\n",
       "      <th>designation</th>\n",
       "      <th>points</th>\n",
       "      <th>price</th>\n",
       "      <th>province</th>\n",
       "      <th>variety</th>\n",
       "      <th>winery</th>\n",
       "    </tr>\n",
       "  </thead>\n",
       "  <tbody>\n",
       "    <tr>\n",
       "      <th>0</th>\n",
       "      <td>US</td>\n",
       "      <td>Martha's Vineyard</td>\n",
       "      <td>96</td>\n",
       "      <td>235.0</td>\n",
       "      <td>California</td>\n",
       "      <td>Cabernet Sauvignon</td>\n",
       "      <td>Heitz</td>\n",
       "    </tr>\n",
       "    <tr>\n",
       "      <th>1</th>\n",
       "      <td>Spain</td>\n",
       "      <td>Carodorum Selección Especial Reserva</td>\n",
       "      <td>96</td>\n",
       "      <td>110.0</td>\n",
       "      <td>Northern Spain</td>\n",
       "      <td>Tinta de Toro</td>\n",
       "      <td>Bodega Carmen Rodríguez</td>\n",
       "    </tr>\n",
       "    <tr>\n",
       "      <th>2</th>\n",
       "      <td>US</td>\n",
       "      <td>Special Selected Late Harvest</td>\n",
       "      <td>96</td>\n",
       "      <td>90.0</td>\n",
       "      <td>California</td>\n",
       "      <td>Sauvignon Blanc</td>\n",
       "      <td>Macauley</td>\n",
       "    </tr>\n",
       "    <tr>\n",
       "      <th>3</th>\n",
       "      <td>US</td>\n",
       "      <td>Reserve</td>\n",
       "      <td>96</td>\n",
       "      <td>65.0</td>\n",
       "      <td>Oregon</td>\n",
       "      <td>Pinot Noir</td>\n",
       "      <td>Ponzi</td>\n",
       "    </tr>\n",
       "    <tr>\n",
       "      <th>4</th>\n",
       "      <td>France</td>\n",
       "      <td>La Brûlade</td>\n",
       "      <td>95</td>\n",
       "      <td>66.0</td>\n",
       "      <td>Provence</td>\n",
       "      <td>Provence red blend</td>\n",
       "      <td>Domaine de la Bégude</td>\n",
       "    </tr>\n",
       "    <tr>\n",
       "      <th>5</th>\n",
       "      <td>Spain</td>\n",
       "      <td>Numanthia</td>\n",
       "      <td>95</td>\n",
       "      <td>73.0</td>\n",
       "      <td>Northern Spain</td>\n",
       "      <td>Tinta de Toro</td>\n",
       "      <td>Numanthia</td>\n",
       "    </tr>\n",
       "    <tr>\n",
       "      <th>6</th>\n",
       "      <td>Spain</td>\n",
       "      <td>San Román</td>\n",
       "      <td>95</td>\n",
       "      <td>65.0</td>\n",
       "      <td>Northern Spain</td>\n",
       "      <td>Tinta de Toro</td>\n",
       "      <td>Maurodos</td>\n",
       "    </tr>\n",
       "    <tr>\n",
       "      <th>7</th>\n",
       "      <td>Spain</td>\n",
       "      <td>Carodorum Único Crianza</td>\n",
       "      <td>95</td>\n",
       "      <td>110.0</td>\n",
       "      <td>Northern Spain</td>\n",
       "      <td>Tinta de Toro</td>\n",
       "      <td>Bodega Carmen Rodríguez</td>\n",
       "    </tr>\n",
       "    <tr>\n",
       "      <th>8</th>\n",
       "      <td>US</td>\n",
       "      <td>Silice</td>\n",
       "      <td>95</td>\n",
       "      <td>65.0</td>\n",
       "      <td>Oregon</td>\n",
       "      <td>Pinot Noir</td>\n",
       "      <td>Bergström</td>\n",
       "    </tr>\n",
       "    <tr>\n",
       "      <th>9</th>\n",
       "      <td>US</td>\n",
       "      <td>Gap's Crown Vineyard</td>\n",
       "      <td>95</td>\n",
       "      <td>60.0</td>\n",
       "      <td>California</td>\n",
       "      <td>Pinot Noir</td>\n",
       "      <td>Blue Farm</td>\n",
       "    </tr>\n",
       "  </tbody>\n",
       "</table>\n",
       "</div>"
      ],
      "text/plain": [
       "  country                           designation  points  price  \\\n",
       "0      US                     Martha's Vineyard      96  235.0   \n",
       "1   Spain  Carodorum Selección Especial Reserva      96  110.0   \n",
       "2      US         Special Selected Late Harvest      96   90.0   \n",
       "3      US                               Reserve      96   65.0   \n",
       "4  France                            La Brûlade      95   66.0   \n",
       "5   Spain                             Numanthia      95   73.0   \n",
       "6   Spain                             San Román      95   65.0   \n",
       "7   Spain               Carodorum Único Crianza      95  110.0   \n",
       "8      US                                Silice      95   65.0   \n",
       "9      US                  Gap's Crown Vineyard      95   60.0   \n",
       "\n",
       "         province             variety                   winery  \n",
       "0      California  Cabernet Sauvignon                    Heitz  \n",
       "1  Northern Spain       Tinta de Toro  Bodega Carmen Rodríguez  \n",
       "2      California     Sauvignon Blanc                 Macauley  \n",
       "3          Oregon          Pinot Noir                    Ponzi  \n",
       "4        Provence  Provence red blend     Domaine de la Bégude  \n",
       "5  Northern Spain       Tinta de Toro                Numanthia  \n",
       "6  Northern Spain       Tinta de Toro                 Maurodos  \n",
       "7  Northern Spain       Tinta de Toro  Bodega Carmen Rodríguez  \n",
       "8          Oregon          Pinot Noir                Bergström  \n",
       "9      California          Pinot Noir                Blue Farm  "
      ]
     },
     "execution_count": 23,
     "metadata": {},
     "output_type": "execute_result"
    }
   ],
   "source": [
    "df2.head(10)"
   ]
  },
  {
   "cell_type": "code",
   "execution_count": 25,
   "id": "11139ad0-b826-40a1-ae0b-6442dabe4616",
   "metadata": {},
   "outputs": [
    {
     "data": {
      "text/plain": [
       "(150930, 7)"
      ]
     },
     "execution_count": 25,
     "metadata": {},
     "output_type": "execute_result"
    }
   ],
   "source": [
    "df2.shape"
   ]
  },
  {
   "cell_type": "markdown",
   "id": "01f35778-6c78-4a1a-8b5d-eed6f2d392b3",
   "metadata": {},
   "source": [
    "### Очистим данные, уберем вина, не имеющие наименований"
   ]
  },
  {
   "cell_type": "code",
   "execution_count": 28,
   "id": "ccb1caf3-af51-45b6-9d10-12fdf04f0d16",
   "metadata": {},
   "outputs": [
    {
     "data": {
      "text/html": [
       "<div>\n",
       "<style scoped>\n",
       "    .dataframe tbody tr th:only-of-type {\n",
       "        vertical-align: middle;\n",
       "    }\n",
       "\n",
       "    .dataframe tbody tr th {\n",
       "        vertical-align: top;\n",
       "    }\n",
       "\n",
       "    .dataframe thead th {\n",
       "        text-align: right;\n",
       "    }\n",
       "</style>\n",
       "<table border=\"1\" class=\"dataframe\">\n",
       "  <thead>\n",
       "    <tr style=\"text-align: right;\">\n",
       "      <th></th>\n",
       "      <th>country</th>\n",
       "      <th>designation</th>\n",
       "      <th>points</th>\n",
       "      <th>price</th>\n",
       "      <th>province</th>\n",
       "      <th>variety</th>\n",
       "      <th>winery</th>\n",
       "    </tr>\n",
       "  </thead>\n",
       "  <tbody>\n",
       "    <tr>\n",
       "      <th>32</th>\n",
       "      <td>Italy</td>\n",
       "      <td>Vigna Piaggia</td>\n",
       "      <td>90</td>\n",
       "      <td>NaN</td>\n",
       "      <td>Tuscany</td>\n",
       "      <td>Sangiovese</td>\n",
       "      <td>Abbadia Ardenga</td>\n",
       "    </tr>\n",
       "    <tr>\n",
       "      <th>36</th>\n",
       "      <td>France</td>\n",
       "      <td>NaN</td>\n",
       "      <td>90</td>\n",
       "      <td>60.0</td>\n",
       "      <td>Rhône Valley</td>\n",
       "      <td>Rhône-style White Blend</td>\n",
       "      <td>Clos de L'Oratoire des Papes</td>\n",
       "    </tr>\n",
       "    <tr>\n",
       "      <th>37</th>\n",
       "      <td>Italy</td>\n",
       "      <td>NaN</td>\n",
       "      <td>90</td>\n",
       "      <td>29.0</td>\n",
       "      <td>Tuscany</td>\n",
       "      <td>Sangiovese</td>\n",
       "      <td>Avignonesi</td>\n",
       "    </tr>\n",
       "    <tr>\n",
       "      <th>38</th>\n",
       "      <td>Italy</td>\n",
       "      <td>NaN</td>\n",
       "      <td>90</td>\n",
       "      <td>23.0</td>\n",
       "      <td>Tuscany</td>\n",
       "      <td>Sangiovese</td>\n",
       "      <td>Casina di Cornia</td>\n",
       "    </tr>\n",
       "    <tr>\n",
       "      <th>48</th>\n",
       "      <td>Italy</td>\n",
       "      <td>NaN</td>\n",
       "      <td>90</td>\n",
       "      <td>50.0</td>\n",
       "      <td>Tuscany</td>\n",
       "      <td>Sangiovese</td>\n",
       "      <td>Brunelli Martoccia</td>\n",
       "    </tr>\n",
       "    <tr>\n",
       "      <th>49</th>\n",
       "      <td>US</td>\n",
       "      <td>NaN</td>\n",
       "      <td>90</td>\n",
       "      <td>40.0</td>\n",
       "      <td>Washington</td>\n",
       "      <td>Cabernet Sauvignon</td>\n",
       "      <td>Canvasback</td>\n",
       "    </tr>\n",
       "    <tr>\n",
       "      <th>51</th>\n",
       "      <td>France</td>\n",
       "      <td>NaN</td>\n",
       "      <td>90</td>\n",
       "      <td>68.0</td>\n",
       "      <td>Burgundy</td>\n",
       "      <td>Chardonnay</td>\n",
       "      <td>Chartron et Trébuchet</td>\n",
       "    </tr>\n",
       "    <tr>\n",
       "      <th>54</th>\n",
       "      <td>US</td>\n",
       "      <td>NaN</td>\n",
       "      <td>90</td>\n",
       "      <td>18.0</td>\n",
       "      <td>California</td>\n",
       "      <td>Chardonnay</td>\n",
       "      <td>De Loach</td>\n",
       "    </tr>\n",
       "    <tr>\n",
       "      <th>56</th>\n",
       "      <td>France</td>\n",
       "      <td>Le Pavé</td>\n",
       "      <td>90</td>\n",
       "      <td>NaN</td>\n",
       "      <td>Loire Valley</td>\n",
       "      <td>Sauvignon Blanc</td>\n",
       "      <td>Domaine Vacheron</td>\n",
       "    </tr>\n",
       "    <tr>\n",
       "      <th>61</th>\n",
       "      <td>Australia</td>\n",
       "      <td>NaN</td>\n",
       "      <td>91</td>\n",
       "      <td>36.0</td>\n",
       "      <td>Victoria</td>\n",
       "      <td>Pinot Noir</td>\n",
       "      <td>Moorooduc</td>\n",
       "    </tr>\n",
       "  </tbody>\n",
       "</table>\n",
       "</div>"
      ],
      "text/plain": [
       "      country    designation  points  price      province  \\\n",
       "32      Italy  Vigna Piaggia      90    NaN       Tuscany   \n",
       "36     France            NaN      90   60.0  Rhône Valley   \n",
       "37      Italy            NaN      90   29.0       Tuscany   \n",
       "38      Italy            NaN      90   23.0       Tuscany   \n",
       "48      Italy            NaN      90   50.0       Tuscany   \n",
       "49         US            NaN      90   40.0    Washington   \n",
       "51     France            NaN      90   68.0      Burgundy   \n",
       "54         US            NaN      90   18.0    California   \n",
       "56     France        Le Pavé      90    NaN  Loire Valley   \n",
       "61  Australia            NaN      91   36.0      Victoria   \n",
       "\n",
       "                    variety                        winery  \n",
       "32               Sangiovese               Abbadia Ardenga  \n",
       "36  Rhône-style White Blend  Clos de L'Oratoire des Papes  \n",
       "37               Sangiovese                    Avignonesi  \n",
       "38               Sangiovese              Casina di Cornia  \n",
       "48               Sangiovese            Brunelli Martoccia  \n",
       "49       Cabernet Sauvignon                    Canvasback  \n",
       "51               Chardonnay         Chartron et Trébuchet  \n",
       "54               Chardonnay                      De Loach  \n",
       "56          Sauvignon Blanc              Domaine Vacheron  \n",
       "61               Pinot Noir                     Moorooduc  "
      ]
     },
     "metadata": {},
     "output_type": "display_data"
    }
   ],
   "source": [
    "nan_df2 = df2[df2.isna().any(axis=1)]\n",
    "display(nan_df2.head(10))\n",
    "df2['designation'] = df2['designation'].fillna('None')\n"
   ]
  },
  {
   "cell_type": "code",
   "execution_count": 30,
   "id": "20da617f-2d22-4957-a242-86a2d2a483e5",
   "metadata": {},
   "outputs": [
    {
     "data": {
      "text/html": [
       "<div>\n",
       "<style scoped>\n",
       "    .dataframe tbody tr th:only-of-type {\n",
       "        vertical-align: middle;\n",
       "    }\n",
       "\n",
       "    .dataframe tbody tr th {\n",
       "        vertical-align: top;\n",
       "    }\n",
       "\n",
       "    .dataframe thead th {\n",
       "        text-align: right;\n",
       "    }\n",
       "</style>\n",
       "<table border=\"1\" class=\"dataframe\">\n",
       "  <thead>\n",
       "    <tr style=\"text-align: right;\">\n",
       "      <th></th>\n",
       "      <th>country</th>\n",
       "      <th>designation</th>\n",
       "      <th>points</th>\n",
       "      <th>price</th>\n",
       "      <th>province</th>\n",
       "      <th>variety</th>\n",
       "      <th>winery</th>\n",
       "    </tr>\n",
       "  </thead>\n",
       "  <tbody>\n",
       "    <tr>\n",
       "      <th>32</th>\n",
       "      <td>Italy</td>\n",
       "      <td>Vigna Piaggia</td>\n",
       "      <td>90</td>\n",
       "      <td>NaN</td>\n",
       "      <td>Tuscany</td>\n",
       "      <td>Sangiovese</td>\n",
       "      <td>Abbadia Ardenga</td>\n",
       "    </tr>\n",
       "    <tr>\n",
       "      <th>56</th>\n",
       "      <td>France</td>\n",
       "      <td>Le Pavé</td>\n",
       "      <td>90</td>\n",
       "      <td>NaN</td>\n",
       "      <td>Loire Valley</td>\n",
       "      <td>Sauvignon Blanc</td>\n",
       "      <td>Domaine Vacheron</td>\n",
       "    </tr>\n",
       "    <tr>\n",
       "      <th>72</th>\n",
       "      <td>Italy</td>\n",
       "      <td>Bussia Riserva</td>\n",
       "      <td>91</td>\n",
       "      <td>NaN</td>\n",
       "      <td>Piedmont</td>\n",
       "      <td>Nebbiolo</td>\n",
       "      <td>Silvano Bolmida</td>\n",
       "    </tr>\n",
       "    <tr>\n",
       "      <th>82</th>\n",
       "      <td>Italy</td>\n",
       "      <td>Palliano Riserva</td>\n",
       "      <td>91</td>\n",
       "      <td>NaN</td>\n",
       "      <td>Piedmont</td>\n",
       "      <td>Nebbiolo</td>\n",
       "      <td>Ceste</td>\n",
       "    </tr>\n",
       "    <tr>\n",
       "      <th>116</th>\n",
       "      <td>Spain</td>\n",
       "      <td>Dulce Tinto</td>\n",
       "      <td>86</td>\n",
       "      <td>NaN</td>\n",
       "      <td>Levante</td>\n",
       "      <td>Monastrell</td>\n",
       "      <td>Casa de la Ermita</td>\n",
       "    </tr>\n",
       "    <tr>\n",
       "      <th>242</th>\n",
       "      <td>France</td>\n",
       "      <td>None</td>\n",
       "      <td>88</td>\n",
       "      <td>NaN</td>\n",
       "      <td>Bordeaux</td>\n",
       "      <td>Bordeaux-style White Blend</td>\n",
       "      <td>Château Ferran</td>\n",
       "    </tr>\n",
       "    <tr>\n",
       "      <th>261</th>\n",
       "      <td>France</td>\n",
       "      <td>Noctambule</td>\n",
       "      <td>88</td>\n",
       "      <td>NaN</td>\n",
       "      <td>Loire Valley</td>\n",
       "      <td>Chenin Blanc-Chardonnay</td>\n",
       "      <td>Musset-Roullier</td>\n",
       "    </tr>\n",
       "    <tr>\n",
       "      <th>282</th>\n",
       "      <td>France</td>\n",
       "      <td>None</td>\n",
       "      <td>92</td>\n",
       "      <td>NaN</td>\n",
       "      <td>Southwest France</td>\n",
       "      <td>Malbec</td>\n",
       "      <td>Château du Cèdre</td>\n",
       "    </tr>\n",
       "    <tr>\n",
       "      <th>294</th>\n",
       "      <td>France</td>\n",
       "      <td>Cami Salié</td>\n",
       "      <td>91</td>\n",
       "      <td>NaN</td>\n",
       "      <td>Southwest France</td>\n",
       "      <td>Gros and Petit Manseng</td>\n",
       "      <td>Lionel Osmin &amp; Cie</td>\n",
       "    </tr>\n",
       "    <tr>\n",
       "      <th>323</th>\n",
       "      <td>Spain</td>\n",
       "      <td>Prestigio Pago de las Solanas</td>\n",
       "      <td>94</td>\n",
       "      <td>NaN</td>\n",
       "      <td>Northern Spain</td>\n",
       "      <td>Red Blend</td>\n",
       "      <td>Matarromera</td>\n",
       "    </tr>\n",
       "  </tbody>\n",
       "</table>\n",
       "</div>"
      ],
      "text/plain": [
       "    country                    designation  points  price          province  \\\n",
       "32    Italy                  Vigna Piaggia      90    NaN           Tuscany   \n",
       "56   France                        Le Pavé      90    NaN      Loire Valley   \n",
       "72    Italy                 Bussia Riserva      91    NaN          Piedmont   \n",
       "82    Italy               Palliano Riserva      91    NaN          Piedmont   \n",
       "116   Spain                    Dulce Tinto      86    NaN           Levante   \n",
       "242  France                           None      88    NaN          Bordeaux   \n",
       "261  France                     Noctambule      88    NaN      Loire Valley   \n",
       "282  France                           None      92    NaN  Southwest France   \n",
       "294  France                     Cami Salié      91    NaN  Southwest France   \n",
       "323   Spain  Prestigio Pago de las Solanas      94    NaN    Northern Spain   \n",
       "\n",
       "                        variety              winery  \n",
       "32                   Sangiovese     Abbadia Ardenga  \n",
       "56              Sauvignon Blanc    Domaine Vacheron  \n",
       "72                     Nebbiolo     Silvano Bolmida  \n",
       "82                     Nebbiolo               Ceste  \n",
       "116                  Monastrell   Casa de la Ermita  \n",
       "242  Bordeaux-style White Blend      Château Ferran  \n",
       "261     Chenin Blanc-Chardonnay     Musset-Roullier  \n",
       "282                      Malbec    Château du Cèdre  \n",
       "294      Gros and Petit Manseng  Lionel Osmin & Cie  \n",
       "323                   Red Blend         Matarromera  "
      ]
     },
     "metadata": {},
     "output_type": "display_data"
    },
    {
     "data": {
      "text/plain": [
       "(13700, 7)"
      ]
     },
     "execution_count": 30,
     "metadata": {},
     "output_type": "execute_result"
    }
   ],
   "source": [
    "nan_df2 = df2[df2.isna().any(axis=1)]\n",
    "display(nan_df2.head(10))\n",
    "nan_df2.shape"
   ]
  },
  {
   "cell_type": "markdown",
   "id": "87e5c329-c432-473b-ad63-35b1cc33b388",
   "metadata": {},
   "source": [
    "### Отбросим строки без значений цены/баллов"
   ]
  },
  {
   "cell_type": "code",
   "execution_count": 33,
   "id": "0e8b9e9d-b529-4577-85c4-aff7d0ff1c6e",
   "metadata": {},
   "outputs": [],
   "source": [
    "df2.dropna(inplace=True)\n",
    "df2.drop_duplicates(inplace=True)"
   ]
  },
  {
   "cell_type": "code",
   "execution_count": 35,
   "id": "242d2fe5-da5d-41d3-b29c-2f43d11afc12",
   "metadata": {},
   "outputs": [
    {
     "data": {
      "text/plain": [
       "(86226, 7)"
      ]
     },
     "execution_count": 35,
     "metadata": {},
     "output_type": "execute_result"
    }
   ],
   "source": [
    "df2.shape"
   ]
  },
  {
   "cell_type": "code",
   "execution_count": 37,
   "id": "dd98014c-25cd-4167-ae42-17165531e47c",
   "metadata": {},
   "outputs": [
    {
     "data": {
      "text/html": [
       "<div>\n",
       "<style scoped>\n",
       "    .dataframe tbody tr th:only-of-type {\n",
       "        vertical-align: middle;\n",
       "    }\n",
       "\n",
       "    .dataframe tbody tr th {\n",
       "        vertical-align: top;\n",
       "    }\n",
       "\n",
       "    .dataframe thead th {\n",
       "        text-align: right;\n",
       "    }\n",
       "</style>\n",
       "<table border=\"1\" class=\"dataframe\">\n",
       "  <thead>\n",
       "    <tr style=\"text-align: right;\">\n",
       "      <th></th>\n",
       "      <th>country</th>\n",
       "      <th>designation</th>\n",
       "      <th>points</th>\n",
       "      <th>price</th>\n",
       "      <th>province</th>\n",
       "      <th>variety</th>\n",
       "      <th>winery</th>\n",
       "    </tr>\n",
       "  </thead>\n",
       "  <tbody>\n",
       "    <tr>\n",
       "      <th>0</th>\n",
       "      <td>US</td>\n",
       "      <td>Martha's Vineyard</td>\n",
       "      <td>96</td>\n",
       "      <td>235.0</td>\n",
       "      <td>California</td>\n",
       "      <td>Cabernet Sauvignon</td>\n",
       "      <td>Heitz</td>\n",
       "    </tr>\n",
       "    <tr>\n",
       "      <th>1</th>\n",
       "      <td>Spain</td>\n",
       "      <td>Carodorum Selección Especial Reserva</td>\n",
       "      <td>96</td>\n",
       "      <td>110.0</td>\n",
       "      <td>Northern Spain</td>\n",
       "      <td>Tinta de Toro</td>\n",
       "      <td>Bodega Carmen Rodríguez</td>\n",
       "    </tr>\n",
       "    <tr>\n",
       "      <th>2</th>\n",
       "      <td>US</td>\n",
       "      <td>Special Selected Late Harvest</td>\n",
       "      <td>96</td>\n",
       "      <td>90.0</td>\n",
       "      <td>California</td>\n",
       "      <td>Sauvignon Blanc</td>\n",
       "      <td>Macauley</td>\n",
       "    </tr>\n",
       "    <tr>\n",
       "      <th>3</th>\n",
       "      <td>US</td>\n",
       "      <td>Reserve</td>\n",
       "      <td>96</td>\n",
       "      <td>65.0</td>\n",
       "      <td>Oregon</td>\n",
       "      <td>Pinot Noir</td>\n",
       "      <td>Ponzi</td>\n",
       "    </tr>\n",
       "    <tr>\n",
       "      <th>4</th>\n",
       "      <td>France</td>\n",
       "      <td>La Brûlade</td>\n",
       "      <td>95</td>\n",
       "      <td>66.0</td>\n",
       "      <td>Provence</td>\n",
       "      <td>Provence red blend</td>\n",
       "      <td>Domaine de la Bégude</td>\n",
       "    </tr>\n",
       "  </tbody>\n",
       "</table>\n",
       "</div>"
      ],
      "text/plain": [
       "  country                           designation  points  price  \\\n",
       "0      US                     Martha's Vineyard      96  235.0   \n",
       "1   Spain  Carodorum Selección Especial Reserva      96  110.0   \n",
       "2      US         Special Selected Late Harvest      96   90.0   \n",
       "3      US                               Reserve      96   65.0   \n",
       "4  France                            La Brûlade      95   66.0   \n",
       "\n",
       "         province             variety                   winery  \n",
       "0      California  Cabernet Sauvignon                    Heitz  \n",
       "1  Northern Spain       Tinta de Toro  Bodega Carmen Rodríguez  \n",
       "2      California     Sauvignon Blanc                 Macauley  \n",
       "3          Oregon          Pinot Noir                    Ponzi  \n",
       "4        Provence  Provence red blend     Domaine de la Bégude  "
      ]
     },
     "execution_count": 37,
     "metadata": {},
     "output_type": "execute_result"
    }
   ],
   "source": [
    "df2.head()"
   ]
  },
  {
   "cell_type": "markdown",
   "id": "86e3199c-2b79-4c14-8555-f69579294c47",
   "metadata": {},
   "source": [
    "# Анализ данных"
   ]
  },
  {
   "cell_type": "markdown",
   "id": "d7dab07d-9c52-4744-9e65-59872f6d58a0",
   "metadata": {},
   "source": [
    "### 1. Анализ качества вина\r\n"
   ]
  },
  {
   "cell_type": "code",
   "execution_count": 41,
   "id": "648bd39f-4190-4c82-8c4b-55bf37120225",
   "metadata": {},
   "outputs": [
    {
     "name": "stderr",
     "output_type": "stream",
     "text": [
      "/opt/conda/envs/anaconda-2024.02-py310/lib/python3.10/site-packages/seaborn/_oldcore.py:1119: FutureWarning: use_inf_as_na option is deprecated and will be removed in a future version. Convert inf values to NaN before operating instead.\n",
      "  with pd.option_context('mode.use_inf_as_na', True):\n"
     ]
    },
    {
     "data": {
      "text/plain": [
       "<Axes: xlabel='points', ylabel='Count'>"
      ]
     },
     "execution_count": 41,
     "metadata": {},
     "output_type": "execute_result"
    },
    {
     "data": {
      "image/png": "[encoded data removed]",
      "text/plain": [
       "<Figure size 640x480 with 1 Axes>"
      ]
     },
     "metadata": {},
     "output_type": "display_data"
    }
   ],
   "source": [
    "sns.histplot(data=df2, x=\"points\")"
   ]
  },
  {
   "cell_type": "markdown",
   "id": "211d47d5-90bc-467e-b137-c7d89cdcff83",
   "metadata": {},
   "source": [
    "#### Вывод: большинство вин в оценке качества получили оценку 85-90 баллов"
   ]
  },
  {
   "cell_type": "markdown",
   "id": "377fd064-59bf-4ab6-a1da-d84d487031c3",
   "metadata": {},
   "source": [
    "### 2. Отношение цены и качества\r\n"
   ]
  },
  {
   "cell_type": "code",
   "execution_count": 45,
   "id": "29782844-0a8b-43de-ac27-c31c65c1f24e",
   "metadata": {},
   "outputs": [
    {
     "data": {
      "text/plain": [
       "<seaborn.axisgrid.FacetGrid at 0x7430f451e6e0>"
      ]
     },
     "execution_count": 45,
     "metadata": {},
     "output_type": "execute_result"
    },
    {
     "data": {
      "image/png": "[encoded data removed]",
      "text/plain": [
       "<Figure size 500x500 with 1 Axes>"
      ]
     },
     "metadata": {},
     "output_type": "display_data"
    }
   ],
   "source": [
    "df3= df2.groupby('points')['price'].mean().reset_index()\n",
    "\n",
    "sns.lmplot(data=df3, x=\"points\", y=\"price\", legend = \"full\")"
   ]
  },
  {
   "cell_type": "markdown",
   "id": "31f67bfe-c8e2-453a-b332-8076bd69f984",
   "metadata": {},
   "source": [
    "#### Вывод: Стоимость вин, получивших оценку выше 92.5 баллов значительно возрастает."
   ]
  },
  {
   "cell_type": "markdown",
   "id": "cc36ea57-dd66-43ca-bd38-8b82f6d735c7",
   "metadata": {},
   "source": [
    "### 3. Анализ по регионам производства вина\r\n"
   ]
  },
  {
   "cell_type": "code",
   "execution_count": 65,
   "id": "c672c4ba-4a03-403f-a6a1-9de17f522943",
   "metadata": {},
   "outputs": [
    {
     "data": {
      "text/html": [
       "<div>\n",
       "<style scoped>\n",
       "    .dataframe tbody tr th:only-of-type {\n",
       "        vertical-align: middle;\n",
       "    }\n",
       "\n",
       "    .dataframe tbody tr th {\n",
       "        vertical-align: top;\n",
       "    }\n",
       "\n",
       "    .dataframe thead th {\n",
       "        text-align: right;\n",
       "    }\n",
       "</style>\n",
       "<table border=\"1\" class=\"dataframe\">\n",
       "  <thead>\n",
       "    <tr style=\"text-align: right;\">\n",
       "      <th></th>\n",
       "      <th>mean</th>\n",
       "      <th>count</th>\n",
       "    </tr>\n",
       "    <tr>\n",
       "      <th>province</th>\n",
       "      <th></th>\n",
       "      <th></th>\n",
       "    </tr>\n",
       "  </thead>\n",
       "  <tbody>\n",
       "    <tr>\n",
       "      <th>Champagne</th>\n",
       "      <td>84.062069</td>\n",
       "      <td>725</td>\n",
       "    </tr>\n",
       "    <tr>\n",
       "      <th>Tokaji</th>\n",
       "      <td>77.239130</td>\n",
       "      <td>46</td>\n",
       "    </tr>\n",
       "    <tr>\n",
       "      <th>Rheingau</th>\n",
       "      <td>70.693277</td>\n",
       "      <td>238</td>\n",
       "    </tr>\n",
       "    <tr>\n",
       "      <th>Burgundy</th>\n",
       "      <td>70.650206</td>\n",
       "      <td>2187</td>\n",
       "    </tr>\n",
       "    <tr>\n",
       "      <th>Port</th>\n",
       "      <td>59.571096</td>\n",
       "      <td>429</td>\n",
       "    </tr>\n",
       "    <tr>\n",
       "      <th>Baden</th>\n",
       "      <td>54.297872</td>\n",
       "      <td>47</td>\n",
       "    </tr>\n",
       "    <tr>\n",
       "      <th>Nahe</th>\n",
       "      <td>49.440000</td>\n",
       "      <td>50</td>\n",
       "    </tr>\n",
       "    <tr>\n",
       "      <th>Piedmont</th>\n",
       "      <td>49.243613</td>\n",
       "      <td>1683</td>\n",
       "    </tr>\n",
       "    <tr>\n",
       "      <th>Wachau</th>\n",
       "      <td>48.194313</td>\n",
       "      <td>211</td>\n",
       "    </tr>\n",
       "    <tr>\n",
       "      <th>Tuscany</th>\n",
       "      <td>48.152501</td>\n",
       "      <td>3718</td>\n",
       "    </tr>\n",
       "  </tbody>\n",
       "</table>\n",
       "</div>"
      ],
      "text/plain": [
       "                mean  count\n",
       "province                   \n",
       "Champagne  84.062069    725\n",
       "Tokaji     77.239130     46\n",
       "Rheingau   70.693277    238\n",
       "Burgundy   70.650206   2187\n",
       "Port       59.571096    429\n",
       "Baden      54.297872     47\n",
       "Nahe       49.440000     50\n",
       "Piedmont   49.243613   1683\n",
       "Wachau     48.194313    211\n",
       "Tuscany    48.152501   3718"
      ]
     },
     "execution_count": 65,
     "metadata": {},
     "output_type": "execute_result"
    }
   ],
   "source": [
    "df2.groupby('province')['price'].agg(['mean', 'count']).query('count > 30').sort_values('mean', ascending = False).head(10)"
   ]
  },
  {
   "cell_type": "code",
   "execution_count": 67,
   "id": "be21a5a1-fe24-4213-9745-64df71599f0d",
   "metadata": {},
   "outputs": [
    {
     "data": {
      "text/html": [
       "<div>\n",
       "<style scoped>\n",
       "    .dataframe tbody tr th:only-of-type {\n",
       "        vertical-align: middle;\n",
       "    }\n",
       "\n",
       "    .dataframe tbody tr th {\n",
       "        vertical-align: top;\n",
       "    }\n",
       "\n",
       "    .dataframe thead th {\n",
       "        text-align: right;\n",
       "    }\n",
       "</style>\n",
       "<table border=\"1\" class=\"dataframe\">\n",
       "  <thead>\n",
       "    <tr style=\"text-align: right;\">\n",
       "      <th></th>\n",
       "      <th>mean</th>\n",
       "      <th>count</th>\n",
       "    </tr>\n",
       "    <tr>\n",
       "      <th>province</th>\n",
       "      <th></th>\n",
       "      <th></th>\n",
       "    </tr>\n",
       "  </thead>\n",
       "  <tbody>\n",
       "    <tr>\n",
       "      <th>Wachau</th>\n",
       "      <td>90.696682</td>\n",
       "      <td>211</td>\n",
       "    </tr>\n",
       "    <tr>\n",
       "      <th>Kamptal</th>\n",
       "      <td>90.544379</td>\n",
       "      <td>169</td>\n",
       "    </tr>\n",
       "    <tr>\n",
       "      <th>Champagne</th>\n",
       "      <td>90.131034</td>\n",
       "      <td>725</td>\n",
       "    </tr>\n",
       "    <tr>\n",
       "      <th>Tokaji</th>\n",
       "      <td>89.826087</td>\n",
       "      <td>46</td>\n",
       "    </tr>\n",
       "    <tr>\n",
       "      <th>Burgundy</th>\n",
       "      <td>89.587563</td>\n",
       "      <td>2187</td>\n",
       "    </tr>\n",
       "    <tr>\n",
       "      <th>Kremstal</th>\n",
       "      <td>89.560510</td>\n",
       "      <td>157</td>\n",
       "    </tr>\n",
       "    <tr>\n",
       "      <th>Mosel</th>\n",
       "      <td>89.554140</td>\n",
       "      <td>471</td>\n",
       "    </tr>\n",
       "    <tr>\n",
       "      <th>Rheingau</th>\n",
       "      <td>89.508403</td>\n",
       "      <td>238</td>\n",
       "    </tr>\n",
       "    <tr>\n",
       "      <th>Carnuntum</th>\n",
       "      <td>89.400000</td>\n",
       "      <td>40</td>\n",
       "    </tr>\n",
       "    <tr>\n",
       "      <th>Tuscany</th>\n",
       "      <td>89.323561</td>\n",
       "      <td>3718</td>\n",
       "    </tr>\n",
       "  </tbody>\n",
       "</table>\n",
       "</div>"
      ],
      "text/plain": [
       "                mean  count\n",
       "province                   \n",
       "Wachau     90.696682    211\n",
       "Kamptal    90.544379    169\n",
       "Champagne  90.131034    725\n",
       "Tokaji     89.826087     46\n",
       "Burgundy   89.587563   2187\n",
       "Kremstal   89.560510    157\n",
       "Mosel      89.554140    471\n",
       "Rheingau   89.508403    238\n",
       "Carnuntum  89.400000     40\n",
       "Tuscany    89.323561   3718"
      ]
     },
     "execution_count": 67,
     "metadata": {},
     "output_type": "execute_result"
    }
   ],
   "source": [
    "df2.groupby('province')['points'].agg(['mean', 'count']).query('count > 30').sort_values('mean', ascending = False).head(10)"
   ]
  },
  {
   "cell_type": "markdown",
   "id": "6c9a746c-7025-443e-b9fd-e2ad8870d2c9",
   "metadata": {},
   "source": [
    "#### Вывод: представленные вина имеют наибольшую среднюю стоимость или оценку "
   ]
  },
  {
   "cell_type": "markdown",
   "id": "d4671d03-9186-4450-901d-21dc4120c0fe",
   "metadata": {},
   "source": [
    "### 4. Анализ сортов вина\r\n"
   ]
  },
  {
   "cell_type": "code",
   "execution_count": 84,
   "id": "ee358a41-a396-43a8-96d3-06fbb6ede637",
   "metadata": {},
   "outputs": [
    {
     "data": {
      "text/html": [
       "<div>\n",
       "<style scoped>\n",
       "    .dataframe tbody tr th:only-of-type {\n",
       "        vertical-align: middle;\n",
       "    }\n",
       "\n",
       "    .dataframe tbody tr th {\n",
       "        vertical-align: top;\n",
       "    }\n",
       "\n",
       "    .dataframe thead th {\n",
       "        text-align: right;\n",
       "    }\n",
       "</style>\n",
       "<table border=\"1\" class=\"dataframe\">\n",
       "  <thead>\n",
       "    <tr style=\"text-align: right;\">\n",
       "      <th></th>\n",
       "      <th>variety</th>\n",
       "      <th>count</th>\n",
       "    </tr>\n",
       "  </thead>\n",
       "  <tbody>\n",
       "    <tr>\n",
       "      <th>0</th>\n",
       "      <td>Pinot Noir</td>\n",
       "      <td>8485</td>\n",
       "    </tr>\n",
       "    <tr>\n",
       "      <th>1</th>\n",
       "      <td>Chardonnay</td>\n",
       "      <td>8339</td>\n",
       "    </tr>\n",
       "    <tr>\n",
       "      <th>2</th>\n",
       "      <td>Cabernet Sauvignon</td>\n",
       "      <td>7839</td>\n",
       "    </tr>\n",
       "    <tr>\n",
       "      <th>3</th>\n",
       "      <td>Red Blend</td>\n",
       "      <td>5908</td>\n",
       "    </tr>\n",
       "    <tr>\n",
       "      <th>4</th>\n",
       "      <td>Sauvignon Blanc</td>\n",
       "      <td>3727</td>\n",
       "    </tr>\n",
       "    <tr>\n",
       "      <th>5</th>\n",
       "      <td>Syrah</td>\n",
       "      <td>3460</td>\n",
       "    </tr>\n",
       "    <tr>\n",
       "      <th>6</th>\n",
       "      <td>Riesling</td>\n",
       "      <td>3282</td>\n",
       "    </tr>\n",
       "    <tr>\n",
       "      <th>7</th>\n",
       "      <td>Bordeaux-style Red Blend</td>\n",
       "      <td>3181</td>\n",
       "    </tr>\n",
       "    <tr>\n",
       "      <th>8</th>\n",
       "      <td>Merlot</td>\n",
       "      <td>2992</td>\n",
       "    </tr>\n",
       "    <tr>\n",
       "      <th>9</th>\n",
       "      <td>Zinfandel</td>\n",
       "      <td>2336</td>\n",
       "    </tr>\n",
       "  </tbody>\n",
       "</table>\n",
       "</div>"
      ],
      "text/plain": [
       "                    variety  count\n",
       "0                Pinot Noir   8485\n",
       "1                Chardonnay   8339\n",
       "2        Cabernet Sauvignon   7839\n",
       "3                 Red Blend   5908\n",
       "4           Sauvignon Blanc   3727\n",
       "5                     Syrah   3460\n",
       "6                  Riesling   3282\n",
       "7  Bordeaux-style Red Blend   3181\n",
       "8                    Merlot   2992\n",
       "9                 Zinfandel   2336"
      ]
     },
     "execution_count": 84,
     "metadata": {},
     "output_type": "execute_result"
    }
   ],
   "source": [
    "#Most common varieties\n",
    "top_10 = df2['variety'].value_counts().head(10).reset_index()\n",
    "top_10"
   ]
  },
  {
   "cell_type": "code",
   "execution_count": 86,
   "id": "8e4b2bce-5d97-4f52-a23a-fd66088eb566",
   "metadata": {},
   "outputs": [
    {
     "data": {
      "text/html": [
       "<div>\n",
       "<style scoped>\n",
       "    .dataframe tbody tr th:only-of-type {\n",
       "        vertical-align: middle;\n",
       "    }\n",
       "\n",
       "    .dataframe tbody tr th {\n",
       "        vertical-align: top;\n",
       "    }\n",
       "\n",
       "    .dataframe thead th {\n",
       "        text-align: right;\n",
       "    }\n",
       "</style>\n",
       "<table border=\"1\" class=\"dataframe\">\n",
       "  <thead>\n",
       "    <tr style=\"text-align: right;\">\n",
       "      <th></th>\n",
       "      <th>variety</th>\n",
       "      <th>count</th>\n",
       "      <th>points</th>\n",
       "      <th>price</th>\n",
       "    </tr>\n",
       "  </thead>\n",
       "  <tbody>\n",
       "    <tr>\n",
       "      <th>0</th>\n",
       "      <td>Pinot Noir</td>\n",
       "      <td>8485</td>\n",
       "      <td>88.791632</td>\n",
       "      <td>44.790925</td>\n",
       "    </tr>\n",
       "    <tr>\n",
       "      <th>1</th>\n",
       "      <td>Chardonnay</td>\n",
       "      <td>8339</td>\n",
       "      <td>87.708838</td>\n",
       "      <td>32.636767</td>\n",
       "    </tr>\n",
       "    <tr>\n",
       "      <th>2</th>\n",
       "      <td>Cabernet Sauvignon</td>\n",
       "      <td>7839</td>\n",
       "      <td>88.148743</td>\n",
       "      <td>43.158566</td>\n",
       "    </tr>\n",
       "    <tr>\n",
       "      <th>3</th>\n",
       "      <td>Red Blend</td>\n",
       "      <td>5908</td>\n",
       "      <td>88.020481</td>\n",
       "      <td>35.596479</td>\n",
       "    </tr>\n",
       "    <tr>\n",
       "      <th>4</th>\n",
       "      <td>Sauvignon Blanc</td>\n",
       "      <td>3727</td>\n",
       "      <td>86.817011</td>\n",
       "      <td>18.809498</td>\n",
       "    </tr>\n",
       "    <tr>\n",
       "      <th>5</th>\n",
       "      <td>Syrah</td>\n",
       "      <td>3460</td>\n",
       "      <td>88.389306</td>\n",
       "      <td>35.696243</td>\n",
       "    </tr>\n",
       "    <tr>\n",
       "      <th>6</th>\n",
       "      <td>Riesling</td>\n",
       "      <td>3282</td>\n",
       "      <td>88.621877</td>\n",
       "      <td>31.099939</td>\n",
       "    </tr>\n",
       "    <tr>\n",
       "      <th>7</th>\n",
       "      <td>Bordeaux-style Red Blend</td>\n",
       "      <td>3181</td>\n",
       "      <td>88.895945</td>\n",
       "      <td>51.103427</td>\n",
       "    </tr>\n",
       "    <tr>\n",
       "      <th>8</th>\n",
       "      <td>Merlot</td>\n",
       "      <td>2992</td>\n",
       "      <td>86.468249</td>\n",
       "      <td>27.282086</td>\n",
       "    </tr>\n",
       "    <tr>\n",
       "      <th>9</th>\n",
       "      <td>Zinfandel</td>\n",
       "      <td>2336</td>\n",
       "      <td>86.751284</td>\n",
       "      <td>27.200771</td>\n",
       "    </tr>\n",
       "  </tbody>\n",
       "</table>\n",
       "</div>"
      ],
      "text/plain": [
       "                    variety  count     points      price\n",
       "0                Pinot Noir   8485  88.791632  44.790925\n",
       "1                Chardonnay   8339  87.708838  32.636767\n",
       "2        Cabernet Sauvignon   7839  88.148743  43.158566\n",
       "3                 Red Blend   5908  88.020481  35.596479\n",
       "4           Sauvignon Blanc   3727  86.817011  18.809498\n",
       "5                     Syrah   3460  88.389306  35.696243\n",
       "6                  Riesling   3282  88.621877  31.099939\n",
       "7  Bordeaux-style Red Blend   3181  88.895945  51.103427\n",
       "8                    Merlot   2992  86.468249  27.282086\n",
       "9                 Zinfandel   2336  86.751284  27.200771"
      ]
     },
     "execution_count": 86,
     "metadata": {},
     "output_type": "execute_result"
    }
   ],
   "source": [
    "top_10_varieties_list = top_10['variety'].tolist()  \n",
    "filtered_df = df2[df2['variety'].isin(top_10_varieties_list)]\n",
    "\n",
    "mean_values = filtered_df.groupby('variety').agg({\n",
    "    'points': 'mean',\n",
    "    'price': 'mean'\n",
    "}).reset_index()\n",
    "\n",
    "top_10 = pd.merge(top_10, mean_values, on='variety')\n",
    "top_10"
   ]
  },
  {
   "cell_type": "code",
   "execution_count": 88,
   "id": "de0e1720-52a3-48e0-9ff0-9a9504308282",
   "metadata": {},
   "outputs": [
    {
     "data": {
      "text/plain": [
       "<Axes: xlabel='variety', ylabel='price'>"
      ]
     },
     "execution_count": 88,
     "metadata": {},
     "output_type": "execute_result"
    },
    {
     "data": {
      "image/png": "[encoded data removed]",
      "text/plain": [
       "<Figure size 1000x600 with 1 Axes>"
      ]
     },
     "metadata": {},
     "output_type": "display_data"
    }
   ],
   "source": [
    "plt.figure(figsize=(10, 6))\n",
    "plt.xticks(rotation=45)\n",
    "\n",
    "sns.barplot(top_10, x=\"variety\", y=\"price\")"
   ]
  },
  {
   "cell_type": "markdown",
   "id": "60b6363c-6d10-41fd-bee9-fd10ce3e5d52",
   "metadata": {},
   "source": [
    "#### Вывод: представленные выше сорта вина получили наибольшее количество оценок экспертов, что говорит об их популярности на винном рынке"
   ]
  },
  {
   "cell_type": "markdown",
   "id": "37196fb4-a081-410d-b7e0-42772d63f38c",
   "metadata": {},
   "source": [
    "### 5. Успешность виноделен\n"
   ]
  },
  {
   "cell_type": "code",
   "execution_count": 410,
   "id": "a019d10d-d486-45a5-a790-2571d56fff54",
   "metadata": {},
   "outputs": [],
   "source": [
    "top_winery = (\n",
    "    df2.groupby('winery')['points']\n",
    "    .agg(['mean', 'count'])  \n",
    "    .query('count > 30')     \n",
    "    .sort_values('mean', ascending=False)  \n",
    "    .head(10)  \n",
    ")"
   ]
  },
  {
   "cell_type": "code",
   "execution_count": 412,
   "id": "e43a9720-55a6-4484-af59-172d6e338aa6",
   "metadata": {},
   "outputs": [],
   "source": [
    "lux_winery = (\n",
    "    df2.groupby('winery')['price']\n",
    "    .agg(['mean', 'count'])  \n",
    "    .query('count > 30')     \n",
    "    .sort_values('mean', ascending=False)  \n",
    "    .head(10)  \n",
    ")\n"
   ]
  },
  {
   "cell_type": "code",
   "execution_count": 416,
   "id": "49c92ef3-3304-4244-bb2c-de391bdb48e3",
   "metadata": {},
   "outputs": [
    {
     "data": {
      "text/html": [
       "<div>\n",
       "<style scoped>\n",
       "    .dataframe tbody tr th:only-of-type {\n",
       "        vertical-align: middle;\n",
       "    }\n",
       "\n",
       "    .dataframe tbody tr th {\n",
       "        vertical-align: top;\n",
       "    }\n",
       "\n",
       "    .dataframe thead th {\n",
       "        text-align: right;\n",
       "    }\n",
       "</style>\n",
       "<table border=\"1\" class=\"dataframe\">\n",
       "  <thead>\n",
       "    <tr style=\"text-align: right;\">\n",
       "      <th></th>\n",
       "      <th>avg_points</th>\n",
       "      <th>avg_price</th>\n",
       "    </tr>\n",
       "    <tr>\n",
       "      <th>winery</th>\n",
       "      <th></th>\n",
       "      <th></th>\n",
       "    </tr>\n",
       "  </thead>\n",
       "  <tbody>\n",
       "    <tr>\n",
       "      <th>Domaine Leflaive</th>\n",
       "      <td>93.806452</td>\n",
       "      <td>226.774194</td>\n",
       "    </tr>\n",
       "    <tr>\n",
       "      <th>Marchesi Antinori</th>\n",
       "      <td>92.593750</td>\n",
       "      <td>104.593750</td>\n",
       "    </tr>\n",
       "    <tr>\n",
       "      <th>Louis Jadot</th>\n",
       "      <td>92.418919</td>\n",
       "      <td>94.635135</td>\n",
       "    </tr>\n",
       "  </tbody>\n",
       "</table>\n",
       "</div>"
      ],
      "text/plain": [
       "                   avg_points   avg_price\n",
       "winery                                   \n",
       "Domaine Leflaive    93.806452  226.774194\n",
       "Marchesi Antinori   92.593750  104.593750\n",
       "Louis Jadot         92.418919   94.635135"
      ]
     },
     "execution_count": 416,
     "metadata": {},
     "output_type": "execute_result"
    }
   ],
   "source": [
    "best = pd.merge(top_winery, lux_winery, on='winery', how='inner')\n",
    "best = best.drop(['count_x', 'count_y'], axis = 1)\n",
    "best = best.rename(columns = {'mean_x' : 'avg_points', \n",
    "                            'mean_y' : 'avg_price'\n",
    "                           })\n",
    "best"
   ]
  },
  {
   "cell_type": "markdown",
   "id": "360bc868-8c6a-4fa4-afd7-8aa6ccf3ed1f",
   "metadata": {},
   "source": [
    "#### Вывод: винодельни Domaine Leflaive, \n",
    "Marchesi Antinoi и \r\n",
    "Louis Jad производят дорогие вина, получающие высокие оценки критиков.ot"
   ]
  },
  {
   "cell_type": "markdown",
   "id": "c86fd625-a7ae-4b1e-8e45-4c130fbbd379",
   "metadata": {},
   "source": [
    "### 6. Распределение цен\n"
   ]
  },
  {
   "cell_type": "code",
   "execution_count": 308,
   "id": "a81e9b12-d4b2-41af-84bb-845228bb4deb",
   "metadata": {},
   "outputs": [
    {
     "data": {
      "text/plain": [
       "2300.0"
      ]
     },
     "execution_count": 308,
     "metadata": {},
     "output_type": "execute_result"
    }
   ],
   "source": [
    "#Finding the biggest and the smallest prices \n",
    "df2['price'].max()"
   ]
  },
  {
   "cell_type": "code",
   "execution_count": 78,
   "id": "b2f19ea8-dcd3-426a-b09d-6a2016cfe997",
   "metadata": {},
   "outputs": [
    {
     "data": {
      "text/plain": [
       "4.0"
      ]
     },
     "execution_count": 78,
     "metadata": {},
     "output_type": "execute_result"
    }
   ],
   "source": [
    "df2['price'].min()"
   ]
  },
  {
   "cell_type": "code",
   "execution_count": 345,
   "id": "c3ecc614-e404-4108-a3b1-1483be931a43",
   "metadata": {},
   "outputs": [
    {
     "data": {
      "text/html": [
       "<div>\n",
       "<style scoped>\n",
       "    .dataframe tbody tr th:only-of-type {\n",
       "        vertical-align: middle;\n",
       "    }\n",
       "\n",
       "    .dataframe tbody tr th {\n",
       "        vertical-align: top;\n",
       "    }\n",
       "\n",
       "    .dataframe thead th {\n",
       "        text-align: right;\n",
       "    }\n",
       "</style>\n",
       "<table border=\"1\" class=\"dataframe\">\n",
       "  <thead>\n",
       "    <tr style=\"text-align: right;\">\n",
       "      <th></th>\n",
       "      <th>price</th>\n",
       "      <th>price category</th>\n",
       "    </tr>\n",
       "  </thead>\n",
       "  <tbody>\n",
       "    <tr>\n",
       "      <th>0</th>\n",
       "      <td>235.0</td>\n",
       "      <td>luxury</td>\n",
       "    </tr>\n",
       "    <tr>\n",
       "      <th>1</th>\n",
       "      <td>110.0</td>\n",
       "      <td>luxury</td>\n",
       "    </tr>\n",
       "    <tr>\n",
       "      <th>2</th>\n",
       "      <td>90.0</td>\n",
       "      <td>luxury</td>\n",
       "    </tr>\n",
       "    <tr>\n",
       "      <th>3</th>\n",
       "      <td>65.0</td>\n",
       "      <td>premium</td>\n",
       "    </tr>\n",
       "    <tr>\n",
       "      <th>4</th>\n",
       "      <td>66.0</td>\n",
       "      <td>premium</td>\n",
       "    </tr>\n",
       "    <tr>\n",
       "      <th>5</th>\n",
       "      <td>73.0</td>\n",
       "      <td>premium</td>\n",
       "    </tr>\n",
       "    <tr>\n",
       "      <th>6</th>\n",
       "      <td>65.0</td>\n",
       "      <td>premium</td>\n",
       "    </tr>\n",
       "    <tr>\n",
       "      <th>7</th>\n",
       "      <td>110.0</td>\n",
       "      <td>luxury</td>\n",
       "    </tr>\n",
       "    <tr>\n",
       "      <th>8</th>\n",
       "      <td>65.0</td>\n",
       "      <td>premium</td>\n",
       "    </tr>\n",
       "    <tr>\n",
       "      <th>9</th>\n",
       "      <td>60.0</td>\n",
       "      <td>premium</td>\n",
       "    </tr>\n",
       "    <tr>\n",
       "      <th>10</th>\n",
       "      <td>80.0</td>\n",
       "      <td>premium</td>\n",
       "    </tr>\n",
       "    <tr>\n",
       "      <th>11</th>\n",
       "      <td>48.0</td>\n",
       "      <td>premium</td>\n",
       "    </tr>\n",
       "    <tr>\n",
       "      <th>12</th>\n",
       "      <td>48.0</td>\n",
       "      <td>premium</td>\n",
       "    </tr>\n",
       "    <tr>\n",
       "      <th>13</th>\n",
       "      <td>90.0</td>\n",
       "      <td>luxury</td>\n",
       "    </tr>\n",
       "    <tr>\n",
       "      <th>14</th>\n",
       "      <td>185.0</td>\n",
       "      <td>luxury</td>\n",
       "    </tr>\n",
       "  </tbody>\n",
       "</table>\n",
       "</div>"
      ],
      "text/plain": [
       "    price price category\n",
       "0   235.0         luxury\n",
       "1   110.0         luxury\n",
       "2    90.0         luxury\n",
       "3    65.0        premium\n",
       "4    66.0        premium\n",
       "5    73.0        premium\n",
       "6    65.0        premium\n",
       "7   110.0         luxury\n",
       "8    65.0        premium\n",
       "9    60.0        premium\n",
       "10   80.0        premium\n",
       "11   48.0        premium\n",
       "12   48.0        premium\n",
       "13   90.0         luxury\n",
       "14  185.0         luxury"
      ]
     },
     "execution_count": 345,
     "metadata": {},
     "output_type": "execute_result"
    }
   ],
   "source": [
    "bins = [0, 25, 80, 2350]  # 0-25, 25-80, >80\n",
    "labels = ['value', 'premium', 'luxury']\n",
    "df2['price category'] = pd.cut(df['price'], bins=bins, labels=labels)\n",
    "df2[['price', 'price category']].head(15)\n"
   ]
  },
  {
   "cell_type": "code",
   "execution_count": 377,
   "id": "56178d3a-c82a-4f78-ad40-1866d513bdc5",
   "metadata": {},
   "outputs": [
    {
     "name": "stderr",
     "output_type": "stream",
     "text": [
      "/opt/conda/envs/anaconda-2024.02-py310/lib/python3.10/site-packages/seaborn/_oldcore.py:1119: FutureWarning: use_inf_as_na option is deprecated and will be removed in a future version. Convert inf values to NaN before operating instead.\n",
      "  with pd.option_context('mode.use_inf_as_na', True):\n"
     ]
    },
    {
     "data": {
      "text/plain": [
       "<Axes: xlabel='price category', ylabel='Count'>"
      ]
     },
     "execution_count": 377,
     "metadata": {},
     "output_type": "execute_result"
    },
    {
     "data": {
      "image/png": "[encoded data removed]",
      "text/plain": [
       "<Figure size 640x480 with 1 Axes>"
      ]
     },
     "metadata": {},
     "output_type": "display_data"
    }
   ],
   "source": [
    "sns.histplot(data = df2, x = 'price category')"
   ]
  },
  {
   "cell_type": "code",
   "execution_count": 388,
   "id": "934ae214-68b6-4ea3-9b47-657b5ad1797c",
   "metadata": {},
   "outputs": [
    {
     "name": "stderr",
     "output_type": "stream",
     "text": [
      "/opt/conda/envs/anaconda-2024.02-py310/lib/python3.10/site-packages/seaborn/_oldcore.py:1119: FutureWarning: use_inf_as_na option is deprecated and will be removed in a future version. Convert inf values to NaN before operating instead.\n",
      "  with pd.option_context('mode.use_inf_as_na', True):\n"
     ]
    },
    {
     "data": {
      "text/plain": [
       "<seaborn.axisgrid.FacetGrid at 0x7489bd039f30>"
      ]
     },
     "execution_count": 388,
     "metadata": {},
     "output_type": "execute_result"
    },
    {
     "data": {
      "image/png": "[encoded data removed]",
      "text/plain": [
       "<Figure size 500x500 with 1 Axes>"
      ]
     },
     "metadata": {},
     "output_type": "display_data"
    }
   ],
   "source": [
    "sns.displot(df2[df2['price category'] == 'premium']['price']) "
   ]
  },
  {
   "cell_type": "markdown",
   "id": "c72f45fb-fb4e-47f3-8dcf-dc77d8f525b3",
   "metadata": {},
   "source": [
    "### 7. Лучшие вина по цене и качеству\n"
   ]
  },
  {
   "cell_type": "code",
   "execution_count": 418,
   "id": "a7e05aad-d8b8-40e5-8249-0bd801d2541a",
   "metadata": {},
   "outputs": [],
   "source": [
    "top_quality = (\n",
    "    df2.groupby('designation')['points']\n",
    "    .agg(['mean', 'count'])  \n",
    "    .query('count > 30')     \n",
    "    .sort_values('mean', ascending=False)  \n",
    "    .head(30)  \n",
    ")\n"
   ]
  },
  {
   "cell_type": "code",
   "execution_count": 420,
   "id": "d8df4036-14ee-44a4-8f7c-fd4f630c8dec",
   "metadata": {},
   "outputs": [],
   "source": [
    "lowest_price = (\n",
    "    df2.groupby('designation')['price']\n",
    "    .agg(['mean', 'count'])  \n",
    "    .query('count > 30')     \n",
    "    .sort_values('mean', ascending=True)  \n",
    "    .head(30)  \n",
    ")\n"
   ]
  },
  {
   "cell_type": "code",
   "execution_count": 422,
   "id": "d9ddea11-598b-401d-b23f-e329c99f3a6d",
   "metadata": {},
   "outputs": [
    {
     "data": {
      "text/html": [
       "<div>\n",
       "<style scoped>\n",
       "    .dataframe tbody tr th:only-of-type {\n",
       "        vertical-align: middle;\n",
       "    }\n",
       "\n",
       "    .dataframe tbody tr th {\n",
       "        vertical-align: top;\n",
       "    }\n",
       "\n",
       "    .dataframe thead th {\n",
       "        text-align: right;\n",
       "    }\n",
       "</style>\n",
       "<table border=\"1\" class=\"dataframe\">\n",
       "  <thead>\n",
       "    <tr style=\"text-align: right;\">\n",
       "      <th></th>\n",
       "      <th>avg_points</th>\n",
       "      <th>avg_price</th>\n",
       "    </tr>\n",
       "    <tr>\n",
       "      <th>designation</th>\n",
       "      <th></th>\n",
       "      <th></th>\n",
       "    </tr>\n",
       "  </thead>\n",
       "  <tbody>\n",
       "    <tr>\n",
       "      <th>Late Bottled Vintage</th>\n",
       "      <td>88.552239</td>\n",
       "      <td>25.253731</td>\n",
       "    </tr>\n",
       "    <tr>\n",
       "      <th>Cuvée Prestige</th>\n",
       "      <td>88.222222</td>\n",
       "      <td>25.044444</td>\n",
       "    </tr>\n",
       "    <tr>\n",
       "      <th>Rosé of</th>\n",
       "      <td>87.716418</td>\n",
       "      <td>19.313433</td>\n",
       "    </tr>\n",
       "  </tbody>\n",
       "</table>\n",
       "</div>"
      ],
      "text/plain": [
       "                      avg_points  avg_price\n",
       "designation                                \n",
       "Late Bottled Vintage   88.552239  25.253731\n",
       "Cuvée Prestige         88.222222  25.044444\n",
       "Rosé of                87.716418  19.313433"
      ]
     },
     "execution_count": 422,
     "metadata": {},
     "output_type": "execute_result"
    }
   ],
   "source": [
    "intersection = pd.merge(top_quality, lowest_price, on='designation', how='inner')\n",
    "intersection = intersection.drop(['count_x', 'count_y'], axis = 1)\n",
    "intersection = intersection.rename(columns = {'mean_x' : 'avg_points', \n",
    "                            'mean_y' : 'avg_price'\n",
    "                           })\n",
    "intersection"
   ]
  },
  {
   "cell_type": "markdown",
   "id": "7e2d0fac-1cb8-40fb-9e02-e41695548c42",
   "metadata": {},
   "source": [
    "#### Вывод: вина Late Bottled Vintage, Cuvée Prestige и Rosé of получают высокие оценки экспертов и имеют низкую стоимость."
   ]
  },
  {
   "cell_type": "code",
   "execution_count": null,
   "id": "c32731c1-7952-4664-b705-ffbfcd350c1a",
   "metadata": {},
   "outputs": [],
   "source": []
  },
  {
   "cell_type": "code",
   "execution_count": null,
   "id": "10dec7db-5dc5-436f-bc54-eead5f8c9636",
   "metadata": {},
   "outputs": [],
   "source": []
  }
 ],
 "metadata": {
  "kernelspec": {
   "display_name": "anaconda-2024.02-py310",
   "language": "python",
   "name": "conda-env-anaconda-2024.02-py310-py"
  },
  "language_info": {
   "codemirror_mode": {
    "name": "ipython",
    "version": 3
   },
   "file_extension": ".py",
   "mimetype": "text/x-python",
   "name": "python",
   "nbconvert_exporter": "python",
   "pygments_lexer": "ipython3",
   "version": "3.10.14"
  }
 },
 "nbformat": 4,
 "nbformat_minor": 5
}
