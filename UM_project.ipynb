{
 "cells": [
  {
   "cell_type": "markdown",
   "id": "57f0ff1c-d90b-45c4-8b70-a6827bd5a885",
   "metadata": {},
   "source": [
    "# Анализ ультрамарафонов"
   ]
  },
  {
   "cell_type": "markdown",
   "id": "b54e453c-91bf-494e-b35e-425ca59ace38",
   "metadata": {},
   "source": [
    "### Импортируем необходимые библиотеки"
   ]
  },
  {
   "cell_type": "code",
   "execution_count": 45,
   "id": "46c16e8f-5371-4b07-b936-c13a80c14ae2",
   "metadata": {},
   "outputs": [],
   "source": [
    "import pandas as pd\n",
    "import seaborn as sns"
   ]
  },
  {
   "cell_type": "markdown",
   "id": "65a569ed-ae8a-464b-be97-036126504996",
   "metadata": {},
   "source": [
    "### Читаем датасет"
   ]
  },
  {
   "cell_type": "code",
   "execution_count": 48,
   "id": "44a3f3d0-09d9-40ec-a01e-cf9494dbc87c",
   "metadata": {},
   "outputs": [
    {
     "name": "stderr",
     "output_type": "stream",
     "text": [
      "/tmp/ipykernel_160/2350612576.py:1: DtypeWarning: Columns (11) have mixed types. Specify dtype option on import or set low_memory=False.\n",
      "  df = pd.read_csv(\"TWO_CENTURIES_OF_UM_RACES.csv\")\n"
     ]
    }
   ],
   "source": [
    "df = pd.read_csv(\"TWO_CENTURIES_OF_UM_RACES.csv\")"
   ]
  },
  {
   "cell_type": "code",
   "execution_count": 50,
   "id": "37b418ab-d997-4409-99f1-c10011d79032",
   "metadata": {
    "scrolled": true
   },
   "outputs": [
    {
     "data": {
      "text/html": [
       "<div>\n",
       "<style scoped>\n",
       "    .dataframe tbody tr th:only-of-type {\n",
       "        vertical-align: middle;\n",
       "    }\n",
       "\n",
       "    .dataframe tbody tr th {\n",
       "        vertical-align: top;\n",
       "    }\n",
       "\n",
       "    .dataframe thead th {\n",
       "        text-align: right;\n",
       "    }\n",
       "</style>\n",
       "<table border=\"1\" class=\"dataframe\">\n",
       "  <thead>\n",
       "    <tr style=\"text-align: right;\">\n",
       "      <th></th>\n",
       "      <th>Year of event</th>\n",
       "      <th>Event dates</th>\n",
       "      <th>Event name</th>\n",
       "      <th>Event distance/length</th>\n",
       "      <th>Event number of finishers</th>\n",
       "      <th>Athlete performance</th>\n",
       "      <th>Athlete club</th>\n",
       "      <th>Athlete country</th>\n",
       "      <th>Athlete year of birth</th>\n",
       "      <th>Athlete gender</th>\n",
       "      <th>Athlete age category</th>\n",
       "      <th>Athlete average speed</th>\n",
       "      <th>Athlete ID</th>\n",
       "    </tr>\n",
       "  </thead>\n",
       "  <tbody>\n",
       "    <tr>\n",
       "      <th>0</th>\n",
       "      <td>2018</td>\n",
       "      <td>06.01.2018</td>\n",
       "      <td>Selva Costera (CHI)</td>\n",
       "      <td>50km</td>\n",
       "      <td>22</td>\n",
       "      <td>4:51:39 h</td>\n",
       "      <td>Tnfrc</td>\n",
       "      <td>CHI</td>\n",
       "      <td>1978.0</td>\n",
       "      <td>M</td>\n",
       "      <td>M35</td>\n",
       "      <td>10.286</td>\n",
       "      <td>0</td>\n",
       "    </tr>\n",
       "    <tr>\n",
       "      <th>1</th>\n",
       "      <td>2018</td>\n",
       "      <td>06.01.2018</td>\n",
       "      <td>Selva Costera (CHI)</td>\n",
       "      <td>50km</td>\n",
       "      <td>22</td>\n",
       "      <td>5:15:45 h</td>\n",
       "      <td>Roberto Echeverría</td>\n",
       "      <td>CHI</td>\n",
       "      <td>1981.0</td>\n",
       "      <td>M</td>\n",
       "      <td>M35</td>\n",
       "      <td>9.501</td>\n",
       "      <td>1</td>\n",
       "    </tr>\n",
       "    <tr>\n",
       "      <th>2</th>\n",
       "      <td>2018</td>\n",
       "      <td>06.01.2018</td>\n",
       "      <td>Selva Costera (CHI)</td>\n",
       "      <td>50km</td>\n",
       "      <td>22</td>\n",
       "      <td>5:16:44 h</td>\n",
       "      <td>Puro Trail Osorno</td>\n",
       "      <td>CHI</td>\n",
       "      <td>1987.0</td>\n",
       "      <td>M</td>\n",
       "      <td>M23</td>\n",
       "      <td>9.472</td>\n",
       "      <td>2</td>\n",
       "    </tr>\n",
       "    <tr>\n",
       "      <th>3</th>\n",
       "      <td>2018</td>\n",
       "      <td>06.01.2018</td>\n",
       "      <td>Selva Costera (CHI)</td>\n",
       "      <td>50km</td>\n",
       "      <td>22</td>\n",
       "      <td>5:34:13 h</td>\n",
       "      <td>Columbia</td>\n",
       "      <td>ARG</td>\n",
       "      <td>1976.0</td>\n",
       "      <td>M</td>\n",
       "      <td>M40</td>\n",
       "      <td>8.976</td>\n",
       "      <td>3</td>\n",
       "    </tr>\n",
       "    <tr>\n",
       "      <th>4</th>\n",
       "      <td>2018</td>\n",
       "      <td>06.01.2018</td>\n",
       "      <td>Selva Costera (CHI)</td>\n",
       "      <td>50km</td>\n",
       "      <td>22</td>\n",
       "      <td>5:54:14 h</td>\n",
       "      <td>Baguales Trail</td>\n",
       "      <td>CHI</td>\n",
       "      <td>1992.0</td>\n",
       "      <td>M</td>\n",
       "      <td>M23</td>\n",
       "      <td>8.469</td>\n",
       "      <td>4</td>\n",
       "    </tr>\n",
       "  </tbody>\n",
       "</table>\n",
       "</div>"
      ],
      "text/plain": [
       "   Year of event Event dates           Event name Event distance/length  \\\n",
       "0           2018  06.01.2018  Selva Costera (CHI)                  50km   \n",
       "1           2018  06.01.2018  Selva Costera (CHI)                  50km   \n",
       "2           2018  06.01.2018  Selva Costera (CHI)                  50km   \n",
       "3           2018  06.01.2018  Selva Costera (CHI)                  50km   \n",
       "4           2018  06.01.2018  Selva Costera (CHI)                  50km   \n",
       "\n",
       "   Event number of finishers Athlete performance        Athlete club  \\\n",
       "0                         22           4:51:39 h               Tnfrc   \n",
       "1                         22           5:15:45 h  Roberto Echeverría   \n",
       "2                         22           5:16:44 h   Puro Trail Osorno   \n",
       "3                         22           5:34:13 h            Columbia   \n",
       "4                         22           5:54:14 h      Baguales Trail   \n",
       "\n",
       "  Athlete country  Athlete year of birth Athlete gender Athlete age category  \\\n",
       "0             CHI                 1978.0              M                  M35   \n",
       "1             CHI                 1981.0              M                  M35   \n",
       "2             CHI                 1987.0              M                  M23   \n",
       "3             ARG                 1976.0              M                  M40   \n",
       "4             CHI                 1992.0              M                  M23   \n",
       "\n",
       "  Athlete average speed  Athlete ID  \n",
       "0                10.286           0  \n",
       "1                 9.501           1  \n",
       "2                 9.472           2  \n",
       "3                 8.976           3  \n",
       "4                 8.469           4  "
      ]
     },
     "execution_count": 50,
     "metadata": {},
     "output_type": "execute_result"
    }
   ],
   "source": [
    "df.head(5)"
   ]
  },
  {
   "cell_type": "code",
   "execution_count": 52,
   "id": "1f9dcdd8-21d2-413d-a731-55592ae11714",
   "metadata": {},
   "outputs": [
    {
     "data": {
      "text/plain": [
       "(7461195, 13)"
      ]
     },
     "execution_count": 52,
     "metadata": {},
     "output_type": "execute_result"
    }
   ],
   "source": [
    "df.shape"
   ]
  },
  {
   "cell_type": "code",
   "execution_count": 54,
   "id": "736328a9-7759-402d-8792-33a046665f16",
   "metadata": {
    "scrolled": true
   },
   "outputs": [
    {
     "data": {
      "text/plain": [
       "Year of event                  int64\n",
       "Event dates                   object\n",
       "Event name                    object\n",
       "Event distance/length         object\n",
       "Event number of finishers      int64\n",
       "Athlete performance           object\n",
       "Athlete club                  object\n",
       "Athlete country               object\n",
       "Athlete year of birth        float64\n",
       "Athlete gender                object\n",
       "Athlete age category          object\n",
       "Athlete average speed         object\n",
       "Athlete ID                     int64\n",
       "dtype: object"
      ]
     },
     "execution_count": 54,
     "metadata": {},
     "output_type": "execute_result"
    }
   ],
   "source": [
    "df.dtypes"
   ]
  },
  {
   "cell_type": "markdown",
   "id": "30bb7a55-9fde-410d-b40c-667b5d61a794",
   "metadata": {},
   "source": [
    "### Очищаем данные"
   ]
  },
  {
   "cell_type": "markdown",
   "id": "09942c8f-33eb-4fe5-b55c-69950c4ada82",
   "metadata": {},
   "source": [
    "##### Рассмотрим только австралийские марафоны на 50км, прошедшие в 2019 году"
   ]
  },
  {
   "cell_type": "code",
   "execution_count": 58,
   "id": "55a382ab-1a02-4dba-a820-47699fca1e7e",
   "metadata": {
    "scrolled": true
   },
   "outputs": [],
   "source": [
    "df2 = df[(df['Event distance/length'].isin(['50km'])) & (df['Year of event'] == 2019) & (df['Event name'].str.split('(').str.get(1).str.split(')').str.get(0) == 'AUS')]"
   ]
  },
  {
   "cell_type": "code",
   "execution_count": 60,
   "id": "57e50ddc-40e7-4386-bba6-a7a077a3de21",
   "metadata": {},
   "outputs": [
    {
     "data": {
      "text/plain": [
       "(5832, 13)"
      ]
     },
     "execution_count": 60,
     "metadata": {},
     "output_type": "execute_result"
    }
   ],
   "source": [
    "df2.shape"
   ]
  },
  {
   "cell_type": "markdown",
   "id": "1017c330-0044-41a4-8e89-a1cdbd445a30",
   "metadata": {},
   "source": [
    "##### Уберем (AUS) из названия мероприятия"
   ]
  },
  {
   "cell_type": "code",
   "execution_count": 63,
   "id": "4552a68c-650a-44de-a545-bd3d1e837cdc",
   "metadata": {
    "scrolled": true
   },
   "outputs": [
    {
     "name": "stderr",
     "output_type": "stream",
     "text": [
      "/tmp/ipykernel_160/3309085592.py:1: SettingWithCopyWarning: \n",
      "A value is trying to be set on a copy of a slice from a DataFrame.\n",
      "Try using .loc[row_indexer,col_indexer] = value instead\n",
      "\n",
      "See the caveats in the documentation: https://pandas.pydata.org/pandas-docs/stable/user_guide/indexing.html#returning-a-view-versus-a-copy\n",
      "  df2['Event name'] = df2['Event name'].str.split('(').str.get(0)\n"
     ]
    },
    {
     "data": {
      "text/html": [
       "<div>\n",
       "<style scoped>\n",
       "    .dataframe tbody tr th:only-of-type {\n",
       "        vertical-align: middle;\n",
       "    }\n",
       "\n",
       "    .dataframe tbody tr th {\n",
       "        vertical-align: top;\n",
       "    }\n",
       "\n",
       "    .dataframe thead th {\n",
       "        text-align: right;\n",
       "    }\n",
       "</style>\n",
       "<table border=\"1\" class=\"dataframe\">\n",
       "  <thead>\n",
       "    <tr style=\"text-align: right;\">\n",
       "      <th></th>\n",
       "      <th>Year of event</th>\n",
       "      <th>Event dates</th>\n",
       "      <th>Event name</th>\n",
       "      <th>Event distance/length</th>\n",
       "      <th>Event number of finishers</th>\n",
       "      <th>Athlete performance</th>\n",
       "      <th>Athlete club</th>\n",
       "      <th>Athlete country</th>\n",
       "      <th>Athlete year of birth</th>\n",
       "      <th>Athlete gender</th>\n",
       "      <th>Athlete age category</th>\n",
       "      <th>Athlete average speed</th>\n",
       "      <th>Athlete ID</th>\n",
       "    </tr>\n",
       "  </thead>\n",
       "  <tbody>\n",
       "    <tr>\n",
       "      <th>1814909</th>\n",
       "      <td>2019</td>\n",
       "      <td>02.-03.03.2019</td>\n",
       "      <td>Lark Hill 50K Dusk to Dawn Ultra</td>\n",
       "      <td>50km</td>\n",
       "      <td>21</td>\n",
       "      <td>3:59:17 h</td>\n",
       "      <td>NaN</td>\n",
       "      <td>AUS</td>\n",
       "      <td>1978.0</td>\n",
       "      <td>M</td>\n",
       "      <td>M40</td>\n",
       "      <td>12.537</td>\n",
       "      <td>31498</td>\n",
       "    </tr>\n",
       "    <tr>\n",
       "      <th>1814910</th>\n",
       "      <td>2019</td>\n",
       "      <td>02.-03.03.2019</td>\n",
       "      <td>Lark Hill 50K Dusk to Dawn Ultra</td>\n",
       "      <td>50km</td>\n",
       "      <td>21</td>\n",
       "      <td>4:42:15 h</td>\n",
       "      <td>NaN</td>\n",
       "      <td>AUS</td>\n",
       "      <td>1977.0</td>\n",
       "      <td>M</td>\n",
       "      <td>M40</td>\n",
       "      <td>10.629</td>\n",
       "      <td>304316</td>\n",
       "    </tr>\n",
       "    <tr>\n",
       "      <th>1814911</th>\n",
       "      <td>2019</td>\n",
       "      <td>02.-03.03.2019</td>\n",
       "      <td>Lark Hill 50K Dusk to Dawn Ultra</td>\n",
       "      <td>50km</td>\n",
       "      <td>21</td>\n",
       "      <td>4:44:55 h</td>\n",
       "      <td>NaN</td>\n",
       "      <td>AUS</td>\n",
       "      <td>1985.0</td>\n",
       "      <td>M</td>\n",
       "      <td>M23</td>\n",
       "      <td>10.529</td>\n",
       "      <td>648871</td>\n",
       "    </tr>\n",
       "    <tr>\n",
       "      <th>1814912</th>\n",
       "      <td>2019</td>\n",
       "      <td>02.-03.03.2019</td>\n",
       "      <td>Lark Hill 50K Dusk to Dawn Ultra</td>\n",
       "      <td>50km</td>\n",
       "      <td>21</td>\n",
       "      <td>4:45:29 h</td>\n",
       "      <td>NaN</td>\n",
       "      <td>AUS</td>\n",
       "      <td>1969.0</td>\n",
       "      <td>M</td>\n",
       "      <td>M45</td>\n",
       "      <td>10.508</td>\n",
       "      <td>31502</td>\n",
       "    </tr>\n",
       "    <tr>\n",
       "      <th>1814913</th>\n",
       "      <td>2019</td>\n",
       "      <td>02.-03.03.2019</td>\n",
       "      <td>Lark Hill 50K Dusk to Dawn Ultra</td>\n",
       "      <td>50km</td>\n",
       "      <td>21</td>\n",
       "      <td>4:55:13 h</td>\n",
       "      <td>NaN</td>\n",
       "      <td>AUS</td>\n",
       "      <td>1983.0</td>\n",
       "      <td>M</td>\n",
       "      <td>M35</td>\n",
       "      <td>10.162</td>\n",
       "      <td>84675</td>\n",
       "    </tr>\n",
       "    <tr>\n",
       "      <th>1814914</th>\n",
       "      <td>2019</td>\n",
       "      <td>02.-03.03.2019</td>\n",
       "      <td>Lark Hill 50K Dusk to Dawn Ultra</td>\n",
       "      <td>50km</td>\n",
       "      <td>21</td>\n",
       "      <td>5:05:00 h</td>\n",
       "      <td>NaN</td>\n",
       "      <td>AUS</td>\n",
       "      <td>1973.0</td>\n",
       "      <td>M</td>\n",
       "      <td>M45</td>\n",
       "      <td>9.836</td>\n",
       "      <td>31494</td>\n",
       "    </tr>\n",
       "    <tr>\n",
       "      <th>1814915</th>\n",
       "      <td>2019</td>\n",
       "      <td>02.-03.03.2019</td>\n",
       "      <td>Lark Hill 50K Dusk to Dawn Ultra</td>\n",
       "      <td>50km</td>\n",
       "      <td>21</td>\n",
       "      <td>5:05:27 h</td>\n",
       "      <td>NaN</td>\n",
       "      <td>AUS</td>\n",
       "      <td>1979.0</td>\n",
       "      <td>F</td>\n",
       "      <td>W35</td>\n",
       "      <td>9.822</td>\n",
       "      <td>203099</td>\n",
       "    </tr>\n",
       "    <tr>\n",
       "      <th>1814916</th>\n",
       "      <td>2019</td>\n",
       "      <td>02.-03.03.2019</td>\n",
       "      <td>Lark Hill 50K Dusk to Dawn Ultra</td>\n",
       "      <td>50km</td>\n",
       "      <td>21</td>\n",
       "      <td>5:15:43 h</td>\n",
       "      <td>NaN</td>\n",
       "      <td>AUS</td>\n",
       "      <td>NaN</td>\n",
       "      <td>M</td>\n",
       "      <td>NaN</td>\n",
       "      <td>9.502</td>\n",
       "      <td>586326</td>\n",
       "    </tr>\n",
       "    <tr>\n",
       "      <th>1814917</th>\n",
       "      <td>2019</td>\n",
       "      <td>02.-03.03.2019</td>\n",
       "      <td>Lark Hill 50K Dusk to Dawn Ultra</td>\n",
       "      <td>50km</td>\n",
       "      <td>21</td>\n",
       "      <td>5:51:23 h</td>\n",
       "      <td>NaN</td>\n",
       "      <td>AUS</td>\n",
       "      <td>1961.0</td>\n",
       "      <td>M</td>\n",
       "      <td>M55</td>\n",
       "      <td>8.538</td>\n",
       "      <td>31504</td>\n",
       "    </tr>\n",
       "    <tr>\n",
       "      <th>1814918</th>\n",
       "      <td>2019</td>\n",
       "      <td>02.-03.03.2019</td>\n",
       "      <td>Lark Hill 50K Dusk to Dawn Ultra</td>\n",
       "      <td>50km</td>\n",
       "      <td>21</td>\n",
       "      <td>5:52:00 h</td>\n",
       "      <td>NaN</td>\n",
       "      <td>AUS</td>\n",
       "      <td>1974.0</td>\n",
       "      <td>M</td>\n",
       "      <td>M40</td>\n",
       "      <td>8.523</td>\n",
       "      <td>31512</td>\n",
       "    </tr>\n",
       "  </tbody>\n",
       "</table>\n",
       "</div>"
      ],
      "text/plain": [
       "         Year of event     Event dates                         Event name  \\\n",
       "1814909           2019  02.-03.03.2019  Lark Hill 50K Dusk to Dawn Ultra    \n",
       "1814910           2019  02.-03.03.2019  Lark Hill 50K Dusk to Dawn Ultra    \n",
       "1814911           2019  02.-03.03.2019  Lark Hill 50K Dusk to Dawn Ultra    \n",
       "1814912           2019  02.-03.03.2019  Lark Hill 50K Dusk to Dawn Ultra    \n",
       "1814913           2019  02.-03.03.2019  Lark Hill 50K Dusk to Dawn Ultra    \n",
       "1814914           2019  02.-03.03.2019  Lark Hill 50K Dusk to Dawn Ultra    \n",
       "1814915           2019  02.-03.03.2019  Lark Hill 50K Dusk to Dawn Ultra    \n",
       "1814916           2019  02.-03.03.2019  Lark Hill 50K Dusk to Dawn Ultra    \n",
       "1814917           2019  02.-03.03.2019  Lark Hill 50K Dusk to Dawn Ultra    \n",
       "1814918           2019  02.-03.03.2019  Lark Hill 50K Dusk to Dawn Ultra    \n",
       "\n",
       "        Event distance/length  Event number of finishers Athlete performance  \\\n",
       "1814909                  50km                         21           3:59:17 h   \n",
       "1814910                  50km                         21           4:42:15 h   \n",
       "1814911                  50km                         21           4:44:55 h   \n",
       "1814912                  50km                         21           4:45:29 h   \n",
       "1814913                  50km                         21           4:55:13 h   \n",
       "1814914                  50km                         21           5:05:00 h   \n",
       "1814915                  50km                         21           5:05:27 h   \n",
       "1814916                  50km                         21           5:15:43 h   \n",
       "1814917                  50km                         21           5:51:23 h   \n",
       "1814918                  50km                         21           5:52:00 h   \n",
       "\n",
       "        Athlete club Athlete country  Athlete year of birth Athlete gender  \\\n",
       "1814909          NaN             AUS                 1978.0              M   \n",
       "1814910          NaN             AUS                 1977.0              M   \n",
       "1814911          NaN             AUS                 1985.0              M   \n",
       "1814912          NaN             AUS                 1969.0              M   \n",
       "1814913          NaN             AUS                 1983.0              M   \n",
       "1814914          NaN             AUS                 1973.0              M   \n",
       "1814915          NaN             AUS                 1979.0              F   \n",
       "1814916          NaN             AUS                    NaN              M   \n",
       "1814917          NaN             AUS                 1961.0              M   \n",
       "1814918          NaN             AUS                 1974.0              M   \n",
       "\n",
       "        Athlete age category Athlete average speed  Athlete ID  \n",
       "1814909                  M40                12.537       31498  \n",
       "1814910                  M40                10.629      304316  \n",
       "1814911                  M23                10.529      648871  \n",
       "1814912                  M45                10.508       31502  \n",
       "1814913                  M35                10.162       84675  \n",
       "1814914                  M45                 9.836       31494  \n",
       "1814915                  W35                 9.822      203099  \n",
       "1814916                  NaN                 9.502      586326  \n",
       "1814917                  M55                 8.538       31504  \n",
       "1814918                  M40                 8.523       31512  "
      ]
     },
     "execution_count": 63,
     "metadata": {},
     "output_type": "execute_result"
    }
   ],
   "source": [
    "df2['Event name'] = df2['Event name'].str.split('(').str.get(0)\n",
    "df2.head(10)"
   ]
  },
  {
   "cell_type": "markdown",
   "id": "84781678-70a3-4e7f-a45c-6a65a32044bd",
   "metadata": {},
   "source": [
    "##### Добавим возраст атлета"
   ]
  },
  {
   "cell_type": "code",
   "execution_count": 66,
   "id": "098f8a4c-0a0c-4cf7-98d1-204176822bd5",
   "metadata": {},
   "outputs": [
    {
     "name": "stderr",
     "output_type": "stream",
     "text": [
      "/tmp/ipykernel_160/3465089594.py:1: SettingWithCopyWarning: \n",
      "A value is trying to be set on a copy of a slice from a DataFrame.\n",
      "Try using .loc[row_indexer,col_indexer] = value instead\n",
      "\n",
      "See the caveats in the documentation: https://pandas.pydata.org/pandas-docs/stable/user_guide/indexing.html#returning-a-view-versus-a-copy\n",
      "  df2['athlete_age'] = 2019 - df2['Athlete year of birth']\n"
     ]
    }
   ],
   "source": [
    "df2['athlete_age'] = 2019 - df2['Athlete year of birth']"
   ]
  },
  {
   "cell_type": "markdown",
   "id": "d2a7e4d3-9bc1-438a-8ea0-43b0f6e2b16f",
   "metadata": {},
   "source": [
    "##### Уберем h из времени забега "
   ]
  },
  {
   "cell_type": "code",
   "execution_count": 69,
   "id": "a4e7e903-4ad9-4d9f-8877-19146b8918eb",
   "metadata": {},
   "outputs": [
    {
     "name": "stderr",
     "output_type": "stream",
     "text": [
      "/tmp/ipykernel_160/2477507555.py:1: SettingWithCopyWarning: \n",
      "A value is trying to be set on a copy of a slice from a DataFrame.\n",
      "Try using .loc[row_indexer,col_indexer] = value instead\n",
      "\n",
      "See the caveats in the documentation: https://pandas.pydata.org/pandas-docs/stable/user_guide/indexing.html#returning-a-view-versus-a-copy\n",
      "  df2['Athlete performance'] = df2['Athlete performance'].str.split(' ').str.get(0)\n"
     ]
    }
   ],
   "source": [
    "df2['Athlete performance'] = df2['Athlete performance'].str.split(' ').str.get(0)"
   ]
  },
  {
   "cell_type": "code",
   "execution_count": 71,
   "id": "4af0a6ad-e997-4cc6-9a08-4200e689d41a",
   "metadata": {
    "scrolled": true
   },
   "outputs": [
    {
     "data": {
      "text/html": [
       "<div>\n",
       "<style scoped>\n",
       "    .dataframe tbody tr th:only-of-type {\n",
       "        vertical-align: middle;\n",
       "    }\n",
       "\n",
       "    .dataframe tbody tr th {\n",
       "        vertical-align: top;\n",
       "    }\n",
       "\n",
       "    .dataframe thead th {\n",
       "        text-align: right;\n",
       "    }\n",
       "</style>\n",
       "<table border=\"1\" class=\"dataframe\">\n",
       "  <thead>\n",
       "    <tr style=\"text-align: right;\">\n",
       "      <th></th>\n",
       "      <th>Year of event</th>\n",
       "      <th>Event dates</th>\n",
       "      <th>Event name</th>\n",
       "      <th>Event distance/length</th>\n",
       "      <th>Event number of finishers</th>\n",
       "      <th>Athlete performance</th>\n",
       "      <th>Athlete club</th>\n",
       "      <th>Athlete country</th>\n",
       "      <th>Athlete year of birth</th>\n",
       "      <th>Athlete gender</th>\n",
       "      <th>Athlete age category</th>\n",
       "      <th>Athlete average speed</th>\n",
       "      <th>Athlete ID</th>\n",
       "      <th>athlete_age</th>\n",
       "    </tr>\n",
       "  </thead>\n",
       "  <tbody>\n",
       "    <tr>\n",
       "      <th>1814909</th>\n",
       "      <td>2019</td>\n",
       "      <td>02.-03.03.2019</td>\n",
       "      <td>Lark Hill 50K Dusk to Dawn Ultra</td>\n",
       "      <td>50km</td>\n",
       "      <td>21</td>\n",
       "      <td>3:59:17</td>\n",
       "      <td>NaN</td>\n",
       "      <td>AUS</td>\n",
       "      <td>1978.0</td>\n",
       "      <td>M</td>\n",
       "      <td>M40</td>\n",
       "      <td>12.537</td>\n",
       "      <td>31498</td>\n",
       "      <td>41.0</td>\n",
       "    </tr>\n",
       "    <tr>\n",
       "      <th>1814910</th>\n",
       "      <td>2019</td>\n",
       "      <td>02.-03.03.2019</td>\n",
       "      <td>Lark Hill 50K Dusk to Dawn Ultra</td>\n",
       "      <td>50km</td>\n",
       "      <td>21</td>\n",
       "      <td>4:42:15</td>\n",
       "      <td>NaN</td>\n",
       "      <td>AUS</td>\n",
       "      <td>1977.0</td>\n",
       "      <td>M</td>\n",
       "      <td>M40</td>\n",
       "      <td>10.629</td>\n",
       "      <td>304316</td>\n",
       "      <td>42.0</td>\n",
       "    </tr>\n",
       "  </tbody>\n",
       "</table>\n",
       "</div>"
      ],
      "text/plain": [
       "         Year of event     Event dates                         Event name  \\\n",
       "1814909           2019  02.-03.03.2019  Lark Hill 50K Dusk to Dawn Ultra    \n",
       "1814910           2019  02.-03.03.2019  Lark Hill 50K Dusk to Dawn Ultra    \n",
       "\n",
       "        Event distance/length  Event number of finishers Athlete performance  \\\n",
       "1814909                  50km                         21             3:59:17   \n",
       "1814910                  50km                         21             4:42:15   \n",
       "\n",
       "        Athlete club Athlete country  Athlete year of birth Athlete gender  \\\n",
       "1814909          NaN             AUS                 1978.0              M   \n",
       "1814910          NaN             AUS                 1977.0              M   \n",
       "\n",
       "        Athlete age category Athlete average speed  Athlete ID  athlete_age  \n",
       "1814909                  M40                12.537       31498         41.0  \n",
       "1814910                  M40                10.629      304316         42.0  "
      ]
     },
     "execution_count": 71,
     "metadata": {},
     "output_type": "execute_result"
    }
   ],
   "source": [
    "df2.head(2)"
   ]
  },
  {
   "cell_type": "markdown",
   "id": "e07b290a-b362-4163-87ad-fe8abf9552c8",
   "metadata": {},
   "source": [
    "##### Отбросим столбцы с клубом, страной, годом рождения атлета и его возрастной категорией"
   ]
  },
  {
   "cell_type": "code",
   "execution_count": 74,
   "id": "5df5ff03-cb13-4f78-803c-b511018de3b1",
   "metadata": {},
   "outputs": [],
   "source": [
    "df2 = df2.drop(['Athlete club','Athlete country', 'Athlete year of birth', 'Athlete age category', 'Year of event'], axis = 1)"
   ]
  },
  {
   "cell_type": "code",
   "execution_count": 76,
   "id": "6e1191d9-44c0-488e-88d6-d78631e749ad",
   "metadata": {},
   "outputs": [
    {
     "data": {
      "text/html": [
       "<div>\n",
       "<style scoped>\n",
       "    .dataframe tbody tr th:only-of-type {\n",
       "        vertical-align: middle;\n",
       "    }\n",
       "\n",
       "    .dataframe tbody tr th {\n",
       "        vertical-align: top;\n",
       "    }\n",
       "\n",
       "    .dataframe thead th {\n",
       "        text-align: right;\n",
       "    }\n",
       "</style>\n",
       "<table border=\"1\" class=\"dataframe\">\n",
       "  <thead>\n",
       "    <tr style=\"text-align: right;\">\n",
       "      <th></th>\n",
       "      <th>Event dates</th>\n",
       "      <th>Event name</th>\n",
       "      <th>Event distance/length</th>\n",
       "      <th>Event number of finishers</th>\n",
       "      <th>Athlete performance</th>\n",
       "      <th>Athlete gender</th>\n",
       "      <th>Athlete average speed</th>\n",
       "      <th>Athlete ID</th>\n",
       "      <th>athlete_age</th>\n",
       "    </tr>\n",
       "  </thead>\n",
       "  <tbody>\n",
       "    <tr>\n",
       "      <th>1814909</th>\n",
       "      <td>02.-03.03.2019</td>\n",
       "      <td>Lark Hill 50K Dusk to Dawn Ultra</td>\n",
       "      <td>50km</td>\n",
       "      <td>21</td>\n",
       "      <td>3:59:17</td>\n",
       "      <td>M</td>\n",
       "      <td>12.537</td>\n",
       "      <td>31498</td>\n",
       "      <td>41.0</td>\n",
       "    </tr>\n",
       "    <tr>\n",
       "      <th>1814910</th>\n",
       "      <td>02.-03.03.2019</td>\n",
       "      <td>Lark Hill 50K Dusk to Dawn Ultra</td>\n",
       "      <td>50km</td>\n",
       "      <td>21</td>\n",
       "      <td>4:42:15</td>\n",
       "      <td>M</td>\n",
       "      <td>10.629</td>\n",
       "      <td>304316</td>\n",
       "      <td>42.0</td>\n",
       "    </tr>\n",
       "    <tr>\n",
       "      <th>1814911</th>\n",
       "      <td>02.-03.03.2019</td>\n",
       "      <td>Lark Hill 50K Dusk to Dawn Ultra</td>\n",
       "      <td>50km</td>\n",
       "      <td>21</td>\n",
       "      <td>4:44:55</td>\n",
       "      <td>M</td>\n",
       "      <td>10.529</td>\n",
       "      <td>648871</td>\n",
       "      <td>34.0</td>\n",
       "    </tr>\n",
       "  </tbody>\n",
       "</table>\n",
       "</div>"
      ],
      "text/plain": [
       "            Event dates                         Event name  \\\n",
       "1814909  02.-03.03.2019  Lark Hill 50K Dusk to Dawn Ultra    \n",
       "1814910  02.-03.03.2019  Lark Hill 50K Dusk to Dawn Ultra    \n",
       "1814911  02.-03.03.2019  Lark Hill 50K Dusk to Dawn Ultra    \n",
       "\n",
       "        Event distance/length  Event number of finishers Athlete performance  \\\n",
       "1814909                  50km                         21             3:59:17   \n",
       "1814910                  50km                         21             4:42:15   \n",
       "1814911                  50km                         21             4:44:55   \n",
       "\n",
       "        Athlete gender Athlete average speed  Athlete ID  athlete_age  \n",
       "1814909              M                12.537       31498         41.0  \n",
       "1814910              M                10.629      304316         42.0  \n",
       "1814911              M                10.529      648871         34.0  "
      ]
     },
     "execution_count": 76,
     "metadata": {},
     "output_type": "execute_result"
    }
   ],
   "source": [
    "df2.head(3)"
   ]
  },
  {
   "cell_type": "markdown",
   "id": "5521306f-66cd-4c8f-9fea-d0d82700ce0a",
   "metadata": {},
   "source": [
    "##### Избавляемся от null значений"
   ]
  },
  {
   "cell_type": "code",
   "execution_count": 79,
   "id": "f580c099-0f11-410e-b169-4c2190b3a2c3",
   "metadata": {},
   "outputs": [
    {
     "data": {
      "text/plain": [
       "Event dates                    0\n",
       "Event name                     0\n",
       "Event distance/length          0\n",
       "Event number of finishers      0\n",
       "Athlete performance            0\n",
       "Athlete gender                 0\n",
       "Athlete average speed          0\n",
       "Athlete ID                     0\n",
       "athlete_age                  646\n",
       "dtype: int64"
      ]
     },
     "execution_count": 79,
     "metadata": {},
     "output_type": "execute_result"
    }
   ],
   "source": [
    "df2.isna().sum()"
   ]
  },
  {
   "cell_type": "code",
   "execution_count": 81,
   "id": "fefd9dac-0615-4343-b981-3cd258997ffb",
   "metadata": {},
   "outputs": [],
   "source": [
    "df2 = df2.dropna()"
   ]
  },
  {
   "cell_type": "markdown",
   "id": "243e5ebd-2326-4d50-baaa-a33b00fa3f13",
   "metadata": {},
   "source": [
    "##### Проверяем дубликаты "
   ]
  },
  {
   "cell_type": "code",
   "execution_count": 84,
   "id": "4d8ef2af-5970-483d-b3aa-7cc28f9aeccc",
   "metadata": {},
   "outputs": [
    {
     "data": {
      "text/html": [
       "<div>\n",
       "<style scoped>\n",
       "    .dataframe tbody tr th:only-of-type {\n",
       "        vertical-align: middle;\n",
       "    }\n",
       "\n",
       "    .dataframe tbody tr th {\n",
       "        vertical-align: top;\n",
       "    }\n",
       "\n",
       "    .dataframe thead th {\n",
       "        text-align: right;\n",
       "    }\n",
       "</style>\n",
       "<table border=\"1\" class=\"dataframe\">\n",
       "  <thead>\n",
       "    <tr style=\"text-align: right;\">\n",
       "      <th></th>\n",
       "      <th>Event dates</th>\n",
       "      <th>Event name</th>\n",
       "      <th>Event distance/length</th>\n",
       "      <th>Event number of finishers</th>\n",
       "      <th>Athlete performance</th>\n",
       "      <th>Athlete gender</th>\n",
       "      <th>Athlete average speed</th>\n",
       "      <th>Athlete ID</th>\n",
       "      <th>athlete_age</th>\n",
       "    </tr>\n",
       "  </thead>\n",
       "  <tbody>\n",
       "  </tbody>\n",
       "</table>\n",
       "</div>"
      ],
      "text/plain": [
       "Empty DataFrame\n",
       "Columns: [Event dates, Event name, Event distance/length, Event number of finishers, Athlete performance, Athlete gender, Athlete average speed, Athlete ID, athlete_age]\n",
       "Index: []"
      ]
     },
     "execution_count": 84,
     "metadata": {},
     "output_type": "execute_result"
    }
   ],
   "source": [
    "df2[df2.duplicated() == True]"
   ]
  },
  {
   "cell_type": "markdown",
   "id": "decfbf04-4869-4bee-957e-cacc5b2da722",
   "metadata": {},
   "source": [
    "##### Обновляем индексы"
   ]
  },
  {
   "cell_type": "code",
   "execution_count": 87,
   "id": "5eba446d-9602-4dfa-b9fe-898f164539fc",
   "metadata": {
    "scrolled": true
   },
   "outputs": [
    {
     "data": {
      "text/html": [
       "<div>\n",
       "<style scoped>\n",
       "    .dataframe tbody tr th:only-of-type {\n",
       "        vertical-align: middle;\n",
       "    }\n",
       "\n",
       "    .dataframe tbody tr th {\n",
       "        vertical-align: top;\n",
       "    }\n",
       "\n",
       "    .dataframe thead th {\n",
       "        text-align: right;\n",
       "    }\n",
       "</style>\n",
       "<table border=\"1\" class=\"dataframe\">\n",
       "  <thead>\n",
       "    <tr style=\"text-align: right;\">\n",
       "      <th></th>\n",
       "      <th>Event dates</th>\n",
       "      <th>Event name</th>\n",
       "      <th>Event distance/length</th>\n",
       "      <th>Event number of finishers</th>\n",
       "      <th>Athlete performance</th>\n",
       "      <th>Athlete gender</th>\n",
       "      <th>Athlete average speed</th>\n",
       "      <th>Athlete ID</th>\n",
       "      <th>athlete_age</th>\n",
       "    </tr>\n",
       "  </thead>\n",
       "  <tbody>\n",
       "    <tr>\n",
       "      <th>0</th>\n",
       "      <td>02.-03.03.2019</td>\n",
       "      <td>Lark Hill 50K Dusk to Dawn Ultra</td>\n",
       "      <td>50km</td>\n",
       "      <td>21</td>\n",
       "      <td>3:59:17</td>\n",
       "      <td>M</td>\n",
       "      <td>12.537</td>\n",
       "      <td>31498</td>\n",
       "      <td>41.0</td>\n",
       "    </tr>\n",
       "    <tr>\n",
       "      <th>1</th>\n",
       "      <td>02.-03.03.2019</td>\n",
       "      <td>Lark Hill 50K Dusk to Dawn Ultra</td>\n",
       "      <td>50km</td>\n",
       "      <td>21</td>\n",
       "      <td>4:42:15</td>\n",
       "      <td>M</td>\n",
       "      <td>10.629</td>\n",
       "      <td>304316</td>\n",
       "      <td>42.0</td>\n",
       "    </tr>\n",
       "    <tr>\n",
       "      <th>2</th>\n",
       "      <td>02.-03.03.2019</td>\n",
       "      <td>Lark Hill 50K Dusk to Dawn Ultra</td>\n",
       "      <td>50km</td>\n",
       "      <td>21</td>\n",
       "      <td>4:44:55</td>\n",
       "      <td>M</td>\n",
       "      <td>10.529</td>\n",
       "      <td>648871</td>\n",
       "      <td>34.0</td>\n",
       "    </tr>\n",
       "    <tr>\n",
       "      <th>3</th>\n",
       "      <td>02.-03.03.2019</td>\n",
       "      <td>Lark Hill 50K Dusk to Dawn Ultra</td>\n",
       "      <td>50km</td>\n",
       "      <td>21</td>\n",
       "      <td>4:45:29</td>\n",
       "      <td>M</td>\n",
       "      <td>10.508</td>\n",
       "      <td>31502</td>\n",
       "      <td>50.0</td>\n",
       "    </tr>\n",
       "    <tr>\n",
       "      <th>4</th>\n",
       "      <td>02.-03.03.2019</td>\n",
       "      <td>Lark Hill 50K Dusk to Dawn Ultra</td>\n",
       "      <td>50km</td>\n",
       "      <td>21</td>\n",
       "      <td>4:55:13</td>\n",
       "      <td>M</td>\n",
       "      <td>10.162</td>\n",
       "      <td>84675</td>\n",
       "      <td>36.0</td>\n",
       "    </tr>\n",
       "    <tr>\n",
       "      <th>...</th>\n",
       "      <td>...</td>\n",
       "      <td>...</td>\n",
       "      <td>...</td>\n",
       "      <td>...</td>\n",
       "      <td>...</td>\n",
       "      <td>...</td>\n",
       "      <td>...</td>\n",
       "      <td>...</td>\n",
       "      <td>...</td>\n",
       "    </tr>\n",
       "    <tr>\n",
       "      <th>5181</th>\n",
       "      <td>09.11.2019</td>\n",
       "      <td>Upstream Challenge</td>\n",
       "      <td>50km</td>\n",
       "      <td>153</td>\n",
       "      <td>9:33:05</td>\n",
       "      <td>M</td>\n",
       "      <td>5.235</td>\n",
       "      <td>807067</td>\n",
       "      <td>49.0</td>\n",
       "    </tr>\n",
       "    <tr>\n",
       "      <th>5182</th>\n",
       "      <td>09.11.2019</td>\n",
       "      <td>Upstream Challenge</td>\n",
       "      <td>50km</td>\n",
       "      <td>153</td>\n",
       "      <td>9:52:10</td>\n",
       "      <td>M</td>\n",
       "      <td>5.066</td>\n",
       "      <td>807081</td>\n",
       "      <td>48.0</td>\n",
       "    </tr>\n",
       "    <tr>\n",
       "      <th>5183</th>\n",
       "      <td>09.11.2019</td>\n",
       "      <td>Upstream Challenge</td>\n",
       "      <td>50km</td>\n",
       "      <td>153</td>\n",
       "      <td>9:53:00</td>\n",
       "      <td>M</td>\n",
       "      <td>5.059</td>\n",
       "      <td>127074</td>\n",
       "      <td>30.0</td>\n",
       "    </tr>\n",
       "    <tr>\n",
       "      <th>5184</th>\n",
       "      <td>09.11.2019</td>\n",
       "      <td>Upstream Challenge</td>\n",
       "      <td>50km</td>\n",
       "      <td>153</td>\n",
       "      <td>9:55:06</td>\n",
       "      <td>M</td>\n",
       "      <td>5.041</td>\n",
       "      <td>249012</td>\n",
       "      <td>43.0</td>\n",
       "    </tr>\n",
       "    <tr>\n",
       "      <th>5185</th>\n",
       "      <td>09.11.2019</td>\n",
       "      <td>Upstream Challenge</td>\n",
       "      <td>50km</td>\n",
       "      <td>153</td>\n",
       "      <td>10:03:41</td>\n",
       "      <td>M</td>\n",
       "      <td>4.969</td>\n",
       "      <td>52361</td>\n",
       "      <td>50.0</td>\n",
       "    </tr>\n",
       "  </tbody>\n",
       "</table>\n",
       "<p>5186 rows × 9 columns</p>\n",
       "</div>"
      ],
      "text/plain": [
       "         Event dates                         Event name Event distance/length  \\\n",
       "0     02.-03.03.2019  Lark Hill 50K Dusk to Dawn Ultra                   50km   \n",
       "1     02.-03.03.2019  Lark Hill 50K Dusk to Dawn Ultra                   50km   \n",
       "2     02.-03.03.2019  Lark Hill 50K Dusk to Dawn Ultra                   50km   \n",
       "3     02.-03.03.2019  Lark Hill 50K Dusk to Dawn Ultra                   50km   \n",
       "4     02.-03.03.2019  Lark Hill 50K Dusk to Dawn Ultra                   50km   \n",
       "...              ...                                ...                   ...   \n",
       "5181      09.11.2019                Upstream Challenge                   50km   \n",
       "5182      09.11.2019                Upstream Challenge                   50km   \n",
       "5183      09.11.2019                Upstream Challenge                   50km   \n",
       "5184      09.11.2019                Upstream Challenge                   50km   \n",
       "5185      09.11.2019                Upstream Challenge                   50km   \n",
       "\n",
       "      Event number of finishers Athlete performance Athlete gender  \\\n",
       "0                            21             3:59:17              M   \n",
       "1                            21             4:42:15              M   \n",
       "2                            21             4:44:55              M   \n",
       "3                            21             4:45:29              M   \n",
       "4                            21             4:55:13              M   \n",
       "...                         ...                 ...            ...   \n",
       "5181                        153             9:33:05              M   \n",
       "5182                        153             9:52:10              M   \n",
       "5183                        153             9:53:00              M   \n",
       "5184                        153             9:55:06              M   \n",
       "5185                        153            10:03:41              M   \n",
       "\n",
       "     Athlete average speed  Athlete ID  athlete_age  \n",
       "0                   12.537       31498         41.0  \n",
       "1                   10.629      304316         42.0  \n",
       "2                   10.529      648871         34.0  \n",
       "3                   10.508       31502         50.0  \n",
       "4                   10.162       84675         36.0  \n",
       "...                    ...         ...          ...  \n",
       "5181                 5.235      807067         49.0  \n",
       "5182                 5.066      807081         48.0  \n",
       "5183                 5.059      127074         30.0  \n",
       "5184                 5.041      249012         43.0  \n",
       "5185                 4.969       52361         50.0  \n",
       "\n",
       "[5186 rows x 9 columns]"
      ]
     },
     "execution_count": 87,
     "metadata": {},
     "output_type": "execute_result"
    }
   ],
   "source": [
    "df2.reset_index(drop = True)"
   ]
  },
  {
   "cell_type": "code",
   "execution_count": 89,
   "id": "ee904cd3-b224-4a88-8abd-467af1e479e5",
   "metadata": {},
   "outputs": [],
   "source": [
    "df2['athlete_age']= df2['athlete_age'].astype(int)"
   ]
  },
  {
   "cell_type": "code",
   "execution_count": 91,
   "id": "77cacc1b-d032-4c6c-849c-110274e2c293",
   "metadata": {},
   "outputs": [
    {
     "data": {
      "text/html": [
       "<div>\n",
       "<style scoped>\n",
       "    .dataframe tbody tr th:only-of-type {\n",
       "        vertical-align: middle;\n",
       "    }\n",
       "\n",
       "    .dataframe tbody tr th {\n",
       "        vertical-align: top;\n",
       "    }\n",
       "\n",
       "    .dataframe thead th {\n",
       "        text-align: right;\n",
       "    }\n",
       "</style>\n",
       "<table border=\"1\" class=\"dataframe\">\n",
       "  <thead>\n",
       "    <tr style=\"text-align: right;\">\n",
       "      <th></th>\n",
       "      <th>Event dates</th>\n",
       "      <th>Event name</th>\n",
       "      <th>Event distance/length</th>\n",
       "      <th>Event number of finishers</th>\n",
       "      <th>Athlete performance</th>\n",
       "      <th>Athlete gender</th>\n",
       "      <th>Athlete average speed</th>\n",
       "      <th>Athlete ID</th>\n",
       "      <th>athlete_age</th>\n",
       "    </tr>\n",
       "  </thead>\n",
       "  <tbody>\n",
       "    <tr>\n",
       "      <th>1814909</th>\n",
       "      <td>02.-03.03.2019</td>\n",
       "      <td>Lark Hill 50K Dusk to Dawn Ultra</td>\n",
       "      <td>50km</td>\n",
       "      <td>21</td>\n",
       "      <td>3:59:17</td>\n",
       "      <td>M</td>\n",
       "      <td>12.537</td>\n",
       "      <td>31498</td>\n",
       "      <td>41</td>\n",
       "    </tr>\n",
       "    <tr>\n",
       "      <th>1814910</th>\n",
       "      <td>02.-03.03.2019</td>\n",
       "      <td>Lark Hill 50K Dusk to Dawn Ultra</td>\n",
       "      <td>50km</td>\n",
       "      <td>21</td>\n",
       "      <td>4:42:15</td>\n",
       "      <td>M</td>\n",
       "      <td>10.629</td>\n",
       "      <td>304316</td>\n",
       "      <td>42</td>\n",
       "    </tr>\n",
       "  </tbody>\n",
       "</table>\n",
       "</div>"
      ],
      "text/plain": [
       "            Event dates                         Event name  \\\n",
       "1814909  02.-03.03.2019  Lark Hill 50K Dusk to Dawn Ultra    \n",
       "1814910  02.-03.03.2019  Lark Hill 50K Dusk to Dawn Ultra    \n",
       "\n",
       "        Event distance/length  Event number of finishers Athlete performance  \\\n",
       "1814909                  50km                         21             3:59:17   \n",
       "1814910                  50km                         21             4:42:15   \n",
       "\n",
       "        Athlete gender Athlete average speed  Athlete ID  athlete_age  \n",
       "1814909              M                12.537       31498           41  \n",
       "1814910              M                10.629      304316           42  "
      ]
     },
     "execution_count": 91,
     "metadata": {},
     "output_type": "execute_result"
    }
   ],
   "source": [
    "df2.head(2)"
   ]
  },
  {
   "cell_type": "code",
   "execution_count": 93,
   "id": "6aa09e10-6629-4007-914d-76afbd9735dc",
   "metadata": {},
   "outputs": [],
   "source": [
    "df2['Athlete average speed']= df2['Athlete average speed'].astype(float)"
   ]
  },
  {
   "cell_type": "code",
   "execution_count": 95,
   "id": "83be9742-1baf-4e0d-8988-34c8c6fdf2ff",
   "metadata": {
    "scrolled": true
   },
   "outputs": [
    {
     "data": {
      "text/plain": [
       "Event dates                   object\n",
       "Event name                    object\n",
       "Event distance/length         object\n",
       "Event number of finishers      int64\n",
       "Athlete performance           object\n",
       "Athlete gender                object\n",
       "Athlete average speed        float64\n",
       "Athlete ID                     int64\n",
       "athlete_age                    int64\n",
       "dtype: object"
      ]
     },
     "execution_count": 95,
     "metadata": {},
     "output_type": "execute_result"
    }
   ],
   "source": [
    "df2.dtypes"
   ]
  },
  {
   "cell_type": "markdown",
   "id": "a52f6875-e073-43d2-9984-ef8c1e7801c3",
   "metadata": {},
   "source": [
    "##### Переименовываем столбцы"
   ]
  },
  {
   "cell_type": "code",
   "execution_count": 101,
   "id": "8e00ff9a-1d5a-4c6b-8f00-62fa5a1a8b4c",
   "metadata": {},
   "outputs": [],
   "source": [
    "df3 = df2.rename(columns = {'Event dates' : 'race_day', \n",
    "                            'Event name' : 'race_name', \n",
    "                            'Event distance/length' : 'race_length',\n",
    "                            'Event number of finishers' : 'number_of_finishers',\n",
    "                            'Athlete performance' : 'athlete_perfomance',\n",
    "                            'Athlete gender' : 'athlete_gender',\n",
    "                            'Athlete average speed' : 'average_speed',\n",
    "                            'Athlete ID' : 'athlete_id'\n",
    "                           })\n",
    "\n",
    "\n",
    "\n",
    "    \n"
   ]
  },
  {
   "cell_type": "code",
   "execution_count": 103,
   "id": "31b9515c-34ef-43c3-8c9d-ebf7df1d3899",
   "metadata": {},
   "outputs": [
    {
     "data": {
      "text/html": [
       "<div>\n",
       "<style scoped>\n",
       "    .dataframe tbody tr th:only-of-type {\n",
       "        vertical-align: middle;\n",
       "    }\n",
       "\n",
       "    .dataframe tbody tr th {\n",
       "        vertical-align: top;\n",
       "    }\n",
       "\n",
       "    .dataframe thead th {\n",
       "        text-align: right;\n",
       "    }\n",
       "</style>\n",
       "<table border=\"1\" class=\"dataframe\">\n",
       "  <thead>\n",
       "    <tr style=\"text-align: right;\">\n",
       "      <th></th>\n",
       "      <th>race_day</th>\n",
       "      <th>race_name</th>\n",
       "      <th>race_length</th>\n",
       "      <th>number_of_finishers</th>\n",
       "      <th>athlete_perfomance</th>\n",
       "      <th>athlete_gender</th>\n",
       "      <th>average_speed</th>\n",
       "      <th>athlete_id</th>\n",
       "      <th>athlete_age</th>\n",
       "    </tr>\n",
       "  </thead>\n",
       "  <tbody>\n",
       "    <tr>\n",
       "      <th>0</th>\n",
       "      <td>02.-03.03.2019</td>\n",
       "      <td>Lark Hill 50K Dusk to Dawn Ultra</td>\n",
       "      <td>50km</td>\n",
       "      <td>21</td>\n",
       "      <td>3:59:17</td>\n",
       "      <td>M</td>\n",
       "      <td>12.537</td>\n",
       "      <td>31498</td>\n",
       "      <td>41</td>\n",
       "    </tr>\n",
       "    <tr>\n",
       "      <th>1</th>\n",
       "      <td>02.-03.03.2019</td>\n",
       "      <td>Lark Hill 50K Dusk to Dawn Ultra</td>\n",
       "      <td>50km</td>\n",
       "      <td>21</td>\n",
       "      <td>4:42:15</td>\n",
       "      <td>M</td>\n",
       "      <td>10.629</td>\n",
       "      <td>304316</td>\n",
       "      <td>42</td>\n",
       "    </tr>\n",
       "    <tr>\n",
       "      <th>2</th>\n",
       "      <td>02.-03.03.2019</td>\n",
       "      <td>Lark Hill 50K Dusk to Dawn Ultra</td>\n",
       "      <td>50km</td>\n",
       "      <td>21</td>\n",
       "      <td>4:44:55</td>\n",
       "      <td>M</td>\n",
       "      <td>10.529</td>\n",
       "      <td>648871</td>\n",
       "      <td>34</td>\n",
       "    </tr>\n",
       "    <tr>\n",
       "      <th>3</th>\n",
       "      <td>02.-03.03.2019</td>\n",
       "      <td>Lark Hill 50K Dusk to Dawn Ultra</td>\n",
       "      <td>50km</td>\n",
       "      <td>21</td>\n",
       "      <td>4:45:29</td>\n",
       "      <td>M</td>\n",
       "      <td>10.508</td>\n",
       "      <td>31502</td>\n",
       "      <td>50</td>\n",
       "    </tr>\n",
       "    <tr>\n",
       "      <th>4</th>\n",
       "      <td>02.-03.03.2019</td>\n",
       "      <td>Lark Hill 50K Dusk to Dawn Ultra</td>\n",
       "      <td>50km</td>\n",
       "      <td>21</td>\n",
       "      <td>4:55:13</td>\n",
       "      <td>M</td>\n",
       "      <td>10.162</td>\n",
       "      <td>84675</td>\n",
       "      <td>36</td>\n",
       "    </tr>\n",
       "    <tr>\n",
       "      <th>...</th>\n",
       "      <td>...</td>\n",
       "      <td>...</td>\n",
       "      <td>...</td>\n",
       "      <td>...</td>\n",
       "      <td>...</td>\n",
       "      <td>...</td>\n",
       "      <td>...</td>\n",
       "      <td>...</td>\n",
       "      <td>...</td>\n",
       "    </tr>\n",
       "    <tr>\n",
       "      <th>5181</th>\n",
       "      <td>09.11.2019</td>\n",
       "      <td>Upstream Challenge</td>\n",
       "      <td>50km</td>\n",
       "      <td>153</td>\n",
       "      <td>9:33:05</td>\n",
       "      <td>M</td>\n",
       "      <td>5.235</td>\n",
       "      <td>807067</td>\n",
       "      <td>49</td>\n",
       "    </tr>\n",
       "    <tr>\n",
       "      <th>5182</th>\n",
       "      <td>09.11.2019</td>\n",
       "      <td>Upstream Challenge</td>\n",
       "      <td>50km</td>\n",
       "      <td>153</td>\n",
       "      <td>9:52:10</td>\n",
       "      <td>M</td>\n",
       "      <td>5.066</td>\n",
       "      <td>807081</td>\n",
       "      <td>48</td>\n",
       "    </tr>\n",
       "    <tr>\n",
       "      <th>5183</th>\n",
       "      <td>09.11.2019</td>\n",
       "      <td>Upstream Challenge</td>\n",
       "      <td>50km</td>\n",
       "      <td>153</td>\n",
       "      <td>9:53:00</td>\n",
       "      <td>M</td>\n",
       "      <td>5.059</td>\n",
       "      <td>127074</td>\n",
       "      <td>30</td>\n",
       "    </tr>\n",
       "    <tr>\n",
       "      <th>5184</th>\n",
       "      <td>09.11.2019</td>\n",
       "      <td>Upstream Challenge</td>\n",
       "      <td>50km</td>\n",
       "      <td>153</td>\n",
       "      <td>9:55:06</td>\n",
       "      <td>M</td>\n",
       "      <td>5.041</td>\n",
       "      <td>249012</td>\n",
       "      <td>43</td>\n",
       "    </tr>\n",
       "    <tr>\n",
       "      <th>5185</th>\n",
       "      <td>09.11.2019</td>\n",
       "      <td>Upstream Challenge</td>\n",
       "      <td>50km</td>\n",
       "      <td>153</td>\n",
       "      <td>10:03:41</td>\n",
       "      <td>M</td>\n",
       "      <td>4.969</td>\n",
       "      <td>52361</td>\n",
       "      <td>50</td>\n",
       "    </tr>\n",
       "  </tbody>\n",
       "</table>\n",
       "<p>5186 rows × 9 columns</p>\n",
       "</div>"
      ],
      "text/plain": [
       "            race_day                          race_name race_length  \\\n",
       "0     02.-03.03.2019  Lark Hill 50K Dusk to Dawn Ultra         50km   \n",
       "1     02.-03.03.2019  Lark Hill 50K Dusk to Dawn Ultra         50km   \n",
       "2     02.-03.03.2019  Lark Hill 50K Dusk to Dawn Ultra         50km   \n",
       "3     02.-03.03.2019  Lark Hill 50K Dusk to Dawn Ultra         50km   \n",
       "4     02.-03.03.2019  Lark Hill 50K Dusk to Dawn Ultra         50km   \n",
       "...              ...                                ...         ...   \n",
       "5181      09.11.2019                Upstream Challenge         50km   \n",
       "5182      09.11.2019                Upstream Challenge         50km   \n",
       "5183      09.11.2019                Upstream Challenge         50km   \n",
       "5184      09.11.2019                Upstream Challenge         50km   \n",
       "5185      09.11.2019                Upstream Challenge         50km   \n",
       "\n",
       "      number_of_finishers athlete_perfomance athlete_gender  average_speed  \\\n",
       "0                      21            3:59:17              M         12.537   \n",
       "1                      21            4:42:15              M         10.629   \n",
       "2                      21            4:44:55              M         10.529   \n",
       "3                      21            4:45:29              M         10.508   \n",
       "4                      21            4:55:13              M         10.162   \n",
       "...                   ...                ...            ...            ...   \n",
       "5181                  153            9:33:05              M          5.235   \n",
       "5182                  153            9:52:10              M          5.066   \n",
       "5183                  153            9:53:00              M          5.059   \n",
       "5184                  153            9:55:06              M          5.041   \n",
       "5185                  153           10:03:41              M          4.969   \n",
       "\n",
       "      athlete_id  athlete_age  \n",
       "0          31498           41  \n",
       "1         304316           42  \n",
       "2         648871           34  \n",
       "3          31502           50  \n",
       "4          84675           36  \n",
       "...          ...          ...  \n",
       "5181      807067           49  \n",
       "5182      807081           48  \n",
       "5183      127074           30  \n",
       "5184      249012           43  \n",
       "5185       52361           50  \n",
       "\n",
       "[5186 rows x 9 columns]"
      ]
     },
     "execution_count": 103,
     "metadata": {},
     "output_type": "execute_result"
    }
   ],
   "source": [
    "df4 = df3.reset_index(drop = True)\n",
    "df4"
   ]
  },
  {
   "cell_type": "markdown",
   "id": "3801fa95-179e-4542-9433-da2983eb642a",
   "metadata": {},
   "source": [
    "### Визуализация"
   ]
  },
  {
   "cell_type": "markdown",
   "id": "3b8666c3-e304-44a8-80d7-f6b9e55cc589",
   "metadata": {},
   "source": [
    "#### Распределение атлетов по полу"
   ]
  },
  {
   "cell_type": "code",
   "execution_count": 107,
   "id": "0f1ab866-6451-4530-bf2d-69cd9a76566f",
   "metadata": {},
   "outputs": [
    {
     "name": "stderr",
     "output_type": "stream",
     "text": [
      "/opt/conda/envs/anaconda-2024.02-py310/lib/python3.10/site-packages/seaborn/_oldcore.py:1119: FutureWarning: use_inf_as_na option is deprecated and will be removed in a future version. Convert inf values to NaN before operating instead.\n",
      "  with pd.option_context('mode.use_inf_as_na', True):\n"
     ]
    },
    {
     "data": {
      "text/plain": [
       "<Axes: xlabel='athlete_gender', ylabel='Count'>"
      ]
     },
     "execution_count": 107,
     "metadata": {},
     "output_type": "execute_result"
    },
    {
     "data": {
      "image/png": "[encoded data removed]",
      "text/plain": [
       "<Figure size 640x480 with 1 Axes>"
      ]
     },
     "metadata": {},
     "output_type": "display_data"
    }
   ],
   "source": [
    "sns.histplot(df4['athlete_gender'])"
   ]
  },
  {
   "cell_type": "markdown",
   "id": "c5acf478-177f-4748-8c55-729b39fd1483",
   "metadata": {},
   "source": [
    "##### Вывод: большинство участников марафонов мужчины"
   ]
  },
  {
   "cell_type": "markdown",
   "id": "c37fc72e-c208-47ed-8b53-f5217f3620f6",
   "metadata": {},
   "source": [
    "#### Распределение средних скоростей для мужчин"
   ]
  },
  {
   "cell_type": "code",
   "execution_count": 110,
   "id": "4845d7a3-0ed2-4a83-8de0-2d720c2ffede",
   "metadata": {},
   "outputs": [
    {
     "name": "stderr",
     "output_type": "stream",
     "text": [
      "/opt/conda/envs/anaconda-2024.02-py310/lib/python3.10/site-packages/seaborn/_oldcore.py:1119: FutureWarning: use_inf_as_na option is deprecated and will be removed in a future version. Convert inf values to NaN before operating instead.\n",
      "  with pd.option_context('mode.use_inf_as_na', True):\n"
     ]
    },
    {
     "data": {
      "text/plain": [
       "<seaborn.axisgrid.FacetGrid at 0x768974364a60>"
      ]
     },
     "execution_count": 110,
     "metadata": {},
     "output_type": "execute_result"
    },
    {
     "data": {
      "image/png": "[encoded data removed]",
      "text/plain": [
       "<Figure size 500x500 with 1 Axes>"
      ]
     },
     "metadata": {},
     "output_type": "display_data"
    }
   ],
   "source": [
    "sns.displot(df4[df4['athlete_gender'] == 'M']['average_speed']) "
   ]
  },
  {
   "cell_type": "markdown",
   "id": "1bb20707-91cc-4bab-ad9f-a1ef03a51bea",
   "metadata": {},
   "source": [
    "##### Вывод: средняя скорость большинства мужчин находится в пределах 6-9 км в час"
   ]
  },
  {
   "cell_type": "markdown",
   "id": "09a9acde-5585-4236-9f20-96353649e0a8",
   "metadata": {},
   "source": [
    "#### Средняя скорость в зависимости от пола"
   ]
  },
  {
   "cell_type": "code",
   "execution_count": 113,
   "id": "44735880-0939-45a2-9880-be0f2f57c5b5",
   "metadata": {},
   "outputs": [
    {
     "data": {
      "text/plain": [
       "<seaborn.axisgrid.FacetGrid at 0x768973f1ac50>"
      ]
     },
     "execution_count": 113,
     "metadata": {},
     "output_type": "execute_result"
    },
    {
     "data": {
      "image/png": "[encoded data removed]",
      "text/plain": [
       "<Figure size 500x500 with 1 Axes>"
      ]
     },
     "metadata": {},
     "output_type": "display_data"
    }
   ],
   "source": [
    "sns.catplot(\n",
    "    data=df4, kind=\"bar\",\n",
    "    x=\"athlete_gender\", y=\"average_speed\", hue=\"athlete_gender\",\n",
    ")"
   ]
  },
  {
   "cell_type": "markdown",
   "id": "9dcc73f4-c656-43fa-9320-bc9893e609e7",
   "metadata": {},
   "source": [
    "##### Вывод: Средняя скорость мужчин-участников марафона примерно на 1.2 км в час выше скорости женщин-участниц марафона"
   ]
  },
  {
   "cell_type": "markdown",
   "id": "40bf4305-ed95-45c5-9ee3-4de155ea0ad8",
   "metadata": {},
   "source": [
    "#### Зависимость средней скорости от возраста + пола"
   ]
  },
  {
   "cell_type": "code",
   "execution_count": 116,
   "id": "bc31209d-6efa-4fae-800e-52c4dea437da",
   "metadata": {},
   "outputs": [
    {
     "data": {
      "text/plain": [
       "<seaborn.axisgrid.FacetGrid at 0x7689748a3d60>"
      ]
     },
     "execution_count": 116,
     "metadata": {},
     "output_type": "execute_result"
    },
    {
     "data": {
      "image/png": "[encoded data removed]",
      "text/plain": [
       "<Figure size 616.611x500 with 1 Axes>"
      ]
     },
     "metadata": {},
     "output_type": "display_data"
    }
   ],
   "source": [
    "sns.lmplot(data=df4, x = 'athlete_age', y = 'average_speed', hue = 'athlete_gender')"
   ]
  },
  {
   "cell_type": "markdown",
   "id": "3f970a82-5f00-4e47-a300-ba9f4e731333",
   "metadata": {},
   "source": [
    "##### Вывод: с возрастом средняя скорость забега снижается"
   ]
  },
  {
   "cell_type": "markdown",
   "id": "bbe4f222-dc54-4e33-995f-cb5ba983eea6",
   "metadata": {},
   "source": [
    "##### Средняя скорость в зависимости от сезона\n",
    "##### Австралийские сезоны по месяцам: 12-2 лето, 3-5 осень, 6-8 зима, 9-11 весна"
   ]
  },
  {
   "cell_type": "code",
   "execution_count": 119,
   "id": "d9445fb4-8d5b-4586-86b4-76970474c27e",
   "metadata": {},
   "outputs": [],
   "source": [
    "#Стандартизируем даты\n",
    "def standardize_dates(date_str):\n",
    "    if '-' in date_str:  \n",
    "        start_date, end_date = date_str.split('-')\n",
    "        \n",
    "        month_year = end_date.split('.')[-2:]\n",
    "        \n",
    "        start_date = start_date + '.'.join(month_year)\n",
    "        return start_date, end_date\n",
    "    else:\n",
    "        return date_str, None  \n",
    "\n",
    "df4['event_day'] = df4['race_day'].apply(lambda x: standardize_dates(x)[0])\n",
    "df4['end_date'] = df4['race_day'].apply(lambda x: standardize_dates(x)[1])\n",
    "\n",
    "df4.drop(columns=['end_date'], inplace=True)\n",
    "df4.drop(columns=['race_day'], inplace=True)\n"
   ]
  },
  {
   "cell_type": "code",
   "execution_count": 123,
   "id": "2c02a5fc-e3cc-483a-be53-15499f131b71",
   "metadata": {},
   "outputs": [],
   "source": [
    "df4['race_month'] = df4['event_day'].str.split('.').str.get(1).astype(int)\n",
    "df4['race_season'] = df4['race_month'].apply(lambda x: 'Summer' if x > 11 else 'Spring' if x > 8 else 'Winter' if x > 5 else 'Fall' if x > 2 else 'Summer')"
   ]
  },
  {
   "cell_type": "code",
   "execution_count": 125,
   "id": "bc3649be-eef0-46fd-8134-613a839827c3",
   "metadata": {},
   "outputs": [
    {
     "data": {
      "text/html": [
       "<div>\n",
       "<style scoped>\n",
       "    .dataframe tbody tr th:only-of-type {\n",
       "        vertical-align: middle;\n",
       "    }\n",
       "\n",
       "    .dataframe tbody tr th {\n",
       "        vertical-align: top;\n",
       "    }\n",
       "\n",
       "    .dataframe thead th {\n",
       "        text-align: right;\n",
       "    }\n",
       "</style>\n",
       "<table border=\"1\" class=\"dataframe\">\n",
       "  <thead>\n",
       "    <tr style=\"text-align: right;\">\n",
       "      <th></th>\n",
       "      <th>mean</th>\n",
       "      <th>count</th>\n",
       "    </tr>\n",
       "    <tr>\n",
       "      <th>race_season</th>\n",
       "      <th></th>\n",
       "      <th></th>\n",
       "    </tr>\n",
       "  </thead>\n",
       "  <tbody>\n",
       "    <tr>\n",
       "      <th>Summer</th>\n",
       "      <td>9.342601</td>\n",
       "      <td>464</td>\n",
       "    </tr>\n",
       "    <tr>\n",
       "      <th>Winter</th>\n",
       "      <td>7.660009</td>\n",
       "      <td>894</td>\n",
       "    </tr>\n",
       "    <tr>\n",
       "      <th>Spring</th>\n",
       "      <td>7.227365</td>\n",
       "      <td>1160</td>\n",
       "    </tr>\n",
       "    <tr>\n",
       "      <th>Fall</th>\n",
       "      <td>6.748953</td>\n",
       "      <td>2668</td>\n",
       "    </tr>\n",
       "  </tbody>\n",
       "</table>\n",
       "</div>"
      ],
      "text/plain": [
       "                 mean  count\n",
       "race_season                 \n",
       "Summer       9.342601    464\n",
       "Winter       7.660009    894\n",
       "Spring       7.227365   1160\n",
       "Fall         6.748953   2668"
      ]
     },
     "execution_count": 125,
     "metadata": {},
     "output_type": "execute_result"
    }
   ],
   "source": [
    "df4.groupby('race_season')['average_speed'].agg(['mean', 'count']).sort_values('mean', ascending = False)"
   ]
  },
  {
   "cell_type": "markdown",
   "id": "202b1789-9b7a-47c1-89f7-d8c63e7bca39",
   "metadata": {},
   "source": [
    "##### Вывод: Наибольшая средняя скорость наблюдается во время летних забегов, наименьшая - во время осенних."
   ]
  },
  {
   "cell_type": "markdown",
   "id": "33a62e81-d8db-4468-b2aa-eb684cf57fe2",
   "metadata": {},
   "source": [
    "##### Однако, количество участников во время летних забегов наименьшее, что может говорить о том, что в них участвуют профессионалы, в то время, как в осенних участвует много любителей"
   ]
  },
  {
   "cell_type": "code",
   "execution_count": null,
   "id": "c10c7c11-ac5c-4a15-adeb-38d66bfdb08b",
   "metadata": {},
   "outputs": [],
   "source": []
  }
 ],
 "metadata": {
  "kernelspec": {
   "display_name": "anaconda-2024.02-py310",
   "language": "python",
   "name": "conda-env-anaconda-2024.02-py310-py"
  },
  "language_info": {
   "codemirror_mode": {
    "name": "ipython",
    "version": 3
   },
   "file_extension": ".py",
   "mimetype": "text/x-python",
   "name": "python",
   "nbconvert_exporter": "python",
   "pygments_lexer": "ipython3",
   "version": "3.10.14"
  }
 },
 "nbformat": 4,
 "nbformat_minor": 5
}
